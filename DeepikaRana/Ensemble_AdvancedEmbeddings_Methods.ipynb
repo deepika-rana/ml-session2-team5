{
  "nbformat": 4,
  "nbformat_minor": 0,
  "metadata": {
    "colab": {
      "name": "Ensemble_AdvancedEmbeddings_Methods.ipynb",
      "provenance": []
    },
    "kernelspec": {
      "name": "python3",
      "display_name": "Python 3"
    },
    "language_info": {
      "name": "python"
    }
  },
  "cells": [
    {
      "cell_type": "markdown",
      "metadata": {
        "id": "kVBz_MB2kvoB"
      },
      "source": [
        "# **Advanced Embedding Methods for Pytorch Forum**\n"
      ]
    },
    {
      "cell_type": "markdown",
      "metadata": {
        "id": "7XsHRjuLrht0"
      },
      "source": [
        "# Get the data"
      ]
    },
    {
      "cell_type": "code",
      "metadata": {
        "colab": {
          "base_uri": "https://localhost:8080/"
        },
        "id": "Xa0KBRlJqxtg",
        "outputId": "93a5f018-4267-418d-e4b4-4d73c032d24e"
      },
      "source": [
        "from google.colab import drive\n",
        "drive.mount('/content/drive')"
      ],
      "execution_count": null,
      "outputs": [
        {
          "output_type": "stream",
          "text": [
            "Mounted at /content/drive\n"
          ],
          "name": "stdout"
        }
      ]
    },
    {
      "cell_type": "code",
      "metadata": {
        "colab": {
          "base_uri": "https://localhost:8080/",
          "height": 306
        },
        "id": "HkG7oY0ArncG",
        "outputId": "97d65385-b198-450f-88b5-ecf577f695de"
      },
      "source": [
        "import pandas as pd\n",
        "data = pd.read_csv('/content/drive/My Drive/PytorchCommunityData.csv')\n",
        "data.head()"
      ],
      "execution_count": null,
      "outputs": [
        {
          "output_type": "execute_result",
          "data": {
            "text/html": [
              "<div>\n",
              "<style scoped>\n",
              "    .dataframe tbody tr th:only-of-type {\n",
              "        vertical-align: middle;\n",
              "    }\n",
              "\n",
              "    .dataframe tbody tr th {\n",
              "        vertical-align: top;\n",
              "    }\n",
              "\n",
              "    .dataframe thead th {\n",
              "        text-align: right;\n",
              "    }\n",
              "</style>\n",
              "<table border=\"1\" class=\"dataframe\">\n",
              "  <thead>\n",
              "    <tr style=\"text-align: right;\">\n",
              "      <th></th>\n",
              "      <th>Unnamed: 0</th>\n",
              "      <th>Topic Title</th>\n",
              "      <th>Category</th>\n",
              "      <th>Tags</th>\n",
              "      <th>Leading Post</th>\n",
              "      <th>Post Replies</th>\n",
              "      <th>Created_at</th>\n",
              "      <th>Likes</th>\n",
              "      <th>Views</th>\n",
              "      <th>Replies</th>\n",
              "    </tr>\n",
              "  </thead>\n",
              "  <tbody>\n",
              "    <tr>\n",
              "      <th>0</th>\n",
              "      <td>113</td>\n",
              "      <td>About the audio category</td>\n",
              "      <td>audio</td>\n",
              "      <td>[]</td>\n",
              "      <td>(Replace this first paragraph with a brief des...</td>\n",
              "      <td>['It would be nice to have some links or somet...</td>\n",
              "      <td>3/15/2018 8:35</td>\n",
              "      <td>0</td>\n",
              "      <td>643</td>\n",
              "      <td>2</td>\n",
              "    </tr>\n",
              "    <tr>\n",
              "      <th>1</th>\n",
              "      <td>114</td>\n",
              "      <td>Error while importing torchaudio</td>\n",
              "      <td>audio</td>\n",
              "      <td>[]</td>\n",
              "      <td>\\n Bug\\nI’m getting this error:\\nAttributeErro...</td>\n",
              "      <td>[]</td>\n",
              "      <td>0</td>\n",
              "      <td>0</td>\n",
              "      <td>0</td>\n",
              "      <td>0</td>\n",
              "    </tr>\n",
              "    <tr>\n",
              "      <th>2</th>\n",
              "      <td>115</td>\n",
              "      <td>How do I know which spectrogram frames belong ...</td>\n",
              "      <td>audio</td>\n",
              "      <td>[]</td>\n",
              "      <td>I’ve been using this script:\\nspgram = torchau...</td>\n",
              "      <td>[]</td>\n",
              "      <td>0</td>\n",
              "      <td>0</td>\n",
              "      <td>0</td>\n",
              "      <td>0</td>\n",
              "    </tr>\n",
              "    <tr>\n",
              "      <th>3</th>\n",
              "      <td>116</td>\n",
              "      <td>Constant/Variable Q Transform</td>\n",
              "      <td>audio</td>\n",
              "      <td>[]</td>\n",
              "      <td>Hi,\\nI’ve been looking into using a Constant Q...</td>\n",
              "      <td>[]</td>\n",
              "      <td>0</td>\n",
              "      <td>0</td>\n",
              "      <td>0</td>\n",
              "      <td>0</td>\n",
              "    </tr>\n",
              "    <tr>\n",
              "      <th>4</th>\n",
              "      <td>117</td>\n",
              "      <td>Invalid argument 0: Sizes of tensors must matc...</td>\n",
              "      <td>audio</td>\n",
              "      <td>[]</td>\n",
              "      <td>Hello, I am trying to train a speech enhanceme...</td>\n",
              "      <td>['These shape errors are often created for odd...</td>\n",
              "      <td>07-06-21 10:13</td>\n",
              "      <td>0</td>\n",
              "      <td>29</td>\n",
              "      <td>1</td>\n",
              "    </tr>\n",
              "  </tbody>\n",
              "</table>\n",
              "</div>"
            ],
            "text/plain": [
              "   Unnamed: 0                                        Topic Title  ... Views Replies\n",
              "0         113                           About the audio category  ...   643       2\n",
              "1         114                   Error while importing torchaudio  ...     0       0\n",
              "2         115  How do I know which spectrogram frames belong ...  ...     0       0\n",
              "3         116                      Constant/Variable Q Transform  ...     0       0\n",
              "4         117  Invalid argument 0: Sizes of tensors must matc...  ...    29       1\n",
              "\n",
              "[5 rows x 10 columns]"
            ]
          },
          "metadata": {
            "tags": []
          },
          "execution_count": 2
        }
      ]
    },
    {
      "cell_type": "markdown",
      "metadata": {
        "id": "Qxzlt3sYsOMA"
      },
      "source": [
        "# **Explore the data**"
      ]
    },
    {
      "cell_type": "code",
      "metadata": {
        "colab": {
          "base_uri": "https://localhost:8080/"
        },
        "id": "1Y4k2DEqrsQY",
        "outputId": "f4b85a1f-f392-4818-dc32-b0c52c5a560c"
      },
      "source": [
        "\n",
        "import logging\n",
        "import pandas as pd\n",
        "import numpy as np\n",
        "from numpy import random\n",
        "import gensim\n",
        "import nltk\n",
        "nltk.download('stopwords')\n",
        "from sklearn.model_selection import train_test_split\n",
        "from sklearn.feature_extraction.text import CountVectorizer, TfidfVectorizer\n",
        "from sklearn.metrics import accuracy_score, confusion_matrix\n",
        "import matplotlib.pyplot as plt\n",
        "#from nltk.corpus import stopwords\n",
        "import re\n",
        "from bs4 import BeautifulSoup\n",
        "%matplotlib inline"
      ],
      "execution_count": null,
      "outputs": [
        {
          "output_type": "stream",
          "text": [
            "[nltk_data] Downloading package stopwords to /root/nltk_data...\n",
            "[nltk_data]   Unzipping corpora/stopwords.zip.\n"
          ],
          "name": "stdout"
        }
      ]
    },
    {
      "cell_type": "code",
      "metadata": {
        "id": "mQFY4ksIsWHW"
      },
      "source": [
        "df = data.copy()"
      ],
      "execution_count": null,
      "outputs": []
    },
    {
      "cell_type": "code",
      "metadata": {
        "colab": {
          "base_uri": "https://localhost:8080/"
        },
        "id": "J9I1HnCusZQo",
        "outputId": "888eb3f3-17ad-4065-e716-daa084a76bc0"
      },
      "source": [
        "df.isnull().sum()"
      ],
      "execution_count": null,
      "outputs": [
        {
          "output_type": "execute_result",
          "data": {
            "text/plain": [
              "Unnamed: 0         0\n",
              "Topic Title        0\n",
              "Category           0\n",
              "Tags            2000\n",
              "Leading Post       1\n",
              "Post Replies       0\n",
              "Created_at        17\n",
              "Likes             17\n",
              "Views             17\n",
              "Replies           17\n",
              "dtype: int64"
            ]
          },
          "metadata": {
            "tags": []
          },
          "execution_count": 14
        }
      ]
    },
    {
      "cell_type": "markdown",
      "metadata": {
        "id": "PYHlYGjJ5e4S"
      },
      "source": [
        "In the data of 6000+ posts 2000 posts have missing tags which clearly indicates the categorisation based on tags is missing."
      ]
    },
    {
      "cell_type": "code",
      "metadata": {
        "id": "znMV_98SsinX"
      },
      "source": [
        "df[\"Tags\"].fillna(\"[]\", inplace = True)"
      ],
      "execution_count": null,
      "outputs": []
    },
    {
      "cell_type": "code",
      "metadata": {
        "id": "botF0gtFs2Al"
      },
      "source": [
        "df[\"Leading Post\"].fillna(\"\", inplace = True)"
      ],
      "execution_count": null,
      "outputs": []
    },
    {
      "cell_type": "code",
      "metadata": {
        "colab": {
          "base_uri": "https://localhost:8080/"
        },
        "id": "kSupQN_Us4lh",
        "outputId": "575f3233-720d-4c05-c97e-577a71601d96"
      },
      "source": [
        "df['post'] = df['Topic Title'] + ' ' + ' ' + df['Post Replies'] + df['Leading Post']\n",
        "df['post'].head()"
      ],
      "execution_count": null,
      "outputs": [
        {
          "output_type": "execute_result",
          "data": {
            "text/plain": [
              "0    About the audio category  ['It would be nice t...\n",
              "1    Error while importing torchaudio  []\\n Bug\\nI’...\n",
              "2    How do I know which spectrogram frames belong ...\n",
              "3    Constant/Variable Q Transform  []Hi,\\nI’ve bee...\n",
              "4    Invalid argument 0: Sizes of tensors must matc...\n",
              "Name: post, dtype: object"
            ]
          },
          "metadata": {
            "tags": []
          },
          "execution_count": 17
        }
      ]
    },
    {
      "cell_type": "code",
      "metadata": {
        "colab": {
          "base_uri": "https://localhost:8080/"
        },
        "id": "JLaQ7hvEs80w",
        "outputId": "adefd4de-f752-473b-e66b-da9cb174367b"
      },
      "source": [
        "df['Category'].unique()"
      ],
      "execution_count": null,
      "outputs": [
        {
          "output_type": "execute_result",
          "data": {
            "text/plain": [
              "array(['audio', 'projects', 'complex', 'ignite', 'C++', 'nlp',\n",
              "       'distributed', 'jit', 'reinforcement-learning', 'Mobile',\n",
              "       'quantization', 'deployment', 'uncategorized', 'vision',\n",
              "       'autograd'], dtype=object)"
            ]
          },
          "metadata": {
            "tags": []
          },
          "execution_count": 18
        }
      ]
    },
    {
      "cell_type": "code",
      "metadata": {
        "colab": {
          "base_uri": "https://localhost:8080/",
          "height": 417
        },
        "id": "-QaV8a2htCDr",
        "outputId": "34b38629-18ac-4954-d6f6-857cccc10f71"
      },
      "source": [
        "my_categories = ['audio', 'projects', 'complex', 'ignite', 'C++', 'nlp',\n",
        "       'distributed', 'jit', 'reinforcement-learning', 'Mobile',\n",
        "       'quantization', 'deployment', 'uncategorized', 'vision',\n",
        "       'autograd']\n",
        "plt.figure(figsize=(10,4))\n",
        "df.Category.value_counts().plot(kind='bar');\n",
        "# Add title and axis names\n",
        "plt.title('Category wise no of posts')\n",
        "plt.xlabel('Category name')\n",
        "plt.ylabel('no of posts')"
      ],
      "execution_count": null,
      "outputs": [
        {
          "output_type": "execute_result",
          "data": {
            "text/plain": [
              "Text(0, 0.5, 'no of posts')"
            ]
          },
          "metadata": {
            "tags": []
          },
          "execution_count": 19
        },
        {
          "output_type": "display_data",
          "data": {
            "image/png": "[encoded data removed]",
            "text/plain": [
              "<Figure size 720x288 with 1 Axes>"
            ]
          },
          "metadata": {
            "tags": [],
            "needs_background": "light"
          }
        }
      ]
    },
    {
      "cell_type": "markdown",
      "metadata": {
        "id": "YTUTJ4Hj5zey"
      },
      "source": [
        "Around 2000 posts are uncategorised which might lead to bias in the results."
      ]
    },
    {
      "cell_type": "code",
      "metadata": {
        "id": "pRRQ9KrFuCKW"
      },
      "source": [
        "test_df = df.copy()"
      ],
      "execution_count": null,
      "outputs": []
    },
    {
      "cell_type": "code",
      "metadata": {
        "id": "cKbfty-6tGbd"
      },
      "source": [
        "REPLACE_BY_SPACE_RE = re.compile('[/(){}\\[\\]\\'\\“\\”\\’\\|@,;]')\n",
        "BAD_SYMBOLS_RE = re.compile('[^0-9a-z #+_]')\n",
        "STOPWORDS = set(stopwords.words('english'))\n",
        "\n",
        "def clean_text(text):\n",
        "    \"\"\"\n",
        "        text: a string\n",
        "        \n",
        "        return: modified initial string\n",
        "    \"\"\"\n",
        "    text = BeautifulSoup(text, \"lxml\").text # HTML decoding\n",
        "    text = text.lower() # lowercase text\n",
        "    text = REPLACE_BY_SPACE_RE.sub(' ', text) # replace REPLACE_BY_SPACE_RE symbols by space in text\n",
        "    #text = BAD_SYMBOLS_RE.sub('', text) # delete symbols which are in BAD_SYMBOLS_RE from text\n",
        "    #text = ''.join(word for word in text if word not in punct)  # remove punctuation\n",
        "    #text = ' '.join(word for word in text.split() if word not in STOPWORDS) # delete stopwors from text\n",
        "    return text\n",
        "    \n",
        "test_df['post'] = test_df['post'].apply(clean_text)"
      ],
      "execution_count": null,
      "outputs": []
    },
    {
      "cell_type": "code",
      "metadata": {
        "id": "fEsOJdJutM41"
      },
      "source": [
        "df_x = test_df['post']\n",
        "df_y = test_df['Category']"
      ],
      "execution_count": null,
      "outputs": []
    },
    {
      "cell_type": "markdown",
      "metadata": {
        "id": "LRYdtFRKyldR"
      },
      "source": [
        "# **Building the Machine Learning model & pipeline**"
      ]
    },
    {
      "cell_type": "markdown",
      "metadata": {
        "id": "GAqaoX4gyph6"
      },
      "source": [
        "**Converting to Doc2Vec**"
      ]
    },
    {
      "cell_type": "code",
      "metadata": {
        "id": "m0LpWUAStl1E"
      },
      "source": [
        "from gensim.models.doc2vec import TaggedDocument, Doc2Vec\n",
        "from sklearn.base import BaseEstimator\n",
        "from sklearn import utils as skl_utils\n",
        "from tqdm import tqdm\n",
        "\n",
        "import multiprocessing\n",
        "import numpy as np\n",
        "\n",
        "class Doc2VecTransformer(BaseEstimator):\n",
        "\n",
        "    def __init__(self, vector_size=100, learning_rate=0.02, epochs=20):\n",
        "        self.learning_rate = learning_rate\n",
        "        self.epochs = epochs\n",
        "        self._model = None\n",
        "        self.vector_size = vector_size\n",
        "        self.workers = multiprocessing.cpu_count() - 1\n",
        "\n",
        "    def fit(self, df_x, df_y=None):\n",
        "        tagged_x = [TaggedDocument(clean_text(row).split(), [index]) for index, row in enumerate(df_x)]\n",
        "        model = Doc2Vec(documents=tagged_x, vector_size=self.vector_size, workers=self.workers)\n",
        "\n",
        "        for epoch in range(self.epochs):\n",
        "            model.train(skl_utils.shuffle([x for x in tqdm(tagged_x)]), total_examples=len(tagged_x), epochs=1)\n",
        "            model.alpha -= self.learning_rate\n",
        "            model.min_alpha = model.alpha\n",
        "\n",
        "        self._model = model\n",
        "        return self\n",
        "\n",
        "    def transform(self, df_x):\n",
        "        return np.asmatrix(np.array([self._model.infer_vector(clean_text(row).split())\n",
        "                                     for index, row in enumerate(df_x)]))"
      ],
      "execution_count": null,
      "outputs": []
    },
    {
      "cell_type": "code",
      "metadata": {
        "colab": {
          "base_uri": "https://localhost:8080/"
        },
        "id": "43UsrgA9yzIL",
        "outputId": "3e1de0ad-e391-42a4-ae3a-bf91ae2e0bf8"
      },
      "source": [
        "doc2vec_trf = Doc2VecTransformer()\n",
        "doc2vec_features = doc2vec_trf.fit(df_x).transform(df_x)\n",
        "doc2vec_features"
      ],
      "execution_count": null,
      "outputs": [
        {
          "output_type": "stream",
          "text": [
            "100%|██████████| 6560/6560 [00:00<00:00, 1114945.87it/s]\n",
            "100%|██████████| 6560/6560 [00:00<00:00, 1254314.11it/s]\n",
            "100%|██████████| 6560/6560 [00:00<00:00, 995500.35it/s]\n",
            "100%|██████████| 6560/6560 [00:00<00:00, 1419157.95it/s]\n",
            "100%|██████████| 6560/6560 [00:00<00:00, 2302287.19it/s]\n",
            "100%|██████████| 6560/6560 [00:00<00:00, 2356108.43it/s]\n",
            "100%|██████████| 6560/6560 [00:00<00:00, 1678233.26it/s]\n",
            "100%|██████████| 6560/6560 [00:00<00:00, 1983894.60it/s]\n",
            "100%|██████████| 6560/6560 [00:00<00:00, 1324092.12it/s]\n",
            "100%|██████████| 6560/6560 [00:00<00:00, 1387665.64it/s]\n",
            "100%|██████████| 6560/6560 [00:00<00:00, 1378834.09it/s]\n",
            "100%|██████████| 6560/6560 [00:00<00:00, 2897192.19it/s]\n",
            "100%|██████████| 6560/6560 [00:00<00:00, 2233330.70it/s]\n",
            "100%|██████████| 6560/6560 [00:00<00:00, 1386476.91it/s]\n",
            "100%|██████████| 6560/6560 [00:00<00:00, 2707067.52it/s]\n",
            "100%|██████████| 6560/6560 [00:00<00:00, 989521.48it/s]\n",
            "100%|██████████| 6560/6560 [00:00<00:00, 2886251.36it/s]\n",
            "100%|██████████| 6560/6560 [00:00<00:00, 2323086.31it/s]\n",
            "100%|██████████| 6560/6560 [00:00<00:00, 1915927.46it/s]\n",
            "100%|██████████| 6560/6560 [00:00<00:00, 1439802.94it/s]\n"
          ],
          "name": "stderr"
        },
        {
          "output_type": "execute_result",
          "data": {
            "text/plain": [
              "matrix([[ 0.00165342,  0.00125994,  0.00014344, ...,  0.00098689,\n",
              "          0.00309602,  0.00174881],\n",
              "        [ 0.00294365, -0.00349063,  0.00092414, ...,  0.00470387,\n",
              "         -0.00158914,  0.0028826 ],\n",
              "        [-0.00122409,  0.00271758, -0.00197222, ...,  0.00376871,\n",
              "          0.001567  , -0.0022454 ],\n",
              "        ...,\n",
              "        [-0.00310982,  0.00086614, -0.00454578, ...,  0.00217033,\n",
              "          0.00479208, -0.003804  ],\n",
              "        [ 0.03349808,  0.02229475,  0.00183609, ..., -0.02224257,\n",
              "          0.00054991,  0.05254572],\n",
              "        [-0.0062665 ,  0.00465432, -0.00530614, ...,  0.00299963,\n",
              "         -0.00420759, -0.0109519 ]], dtype=float32)"
            ]
          },
          "metadata": {
            "tags": []
          },
          "execution_count": 30
        }
      ]
    },
    {
      "cell_type": "markdown",
      "metadata": {
        "id": "nIGUto_uy76d"
      },
      "source": [
        "# **Pipeline with Doc2Vec & LogisticRegression**"
      ]
    },
    {
      "cell_type": "code",
      "metadata": {
        "colab": {
          "base_uri": "https://localhost:8080/"
        },
        "id": "DnIAsCXiy3gL",
        "outputId": "129d51d9-2fe7-4d5a-afff-e45c0117e69d"
      },
      "source": [
        "from sklearn.pipeline import Pipeline\n",
        "from sklearn.linear_model import LogisticRegression\n",
        "from sklearn.model_selection import cross_val_score\n",
        "\n",
        "pl_log_reg = Pipeline(steps=[('doc2vec',Doc2VecTransformer()),\n",
        "                             ('log_reg', LogisticRegression(multi_class='multinomial', solver='saga', max_iter=100))])\n",
        "scores = cross_val_score(pl_log_reg, df_x, df_y, cv=5,scoring='accuracy')\n",
        "print('Accuracy for Logistic Regression: ', scores.mean())\n",
        "score1 = sccores.mean();"
      ],
      "execution_count": null,
      "outputs": [
        {
          "output_type": "stream",
          "text": [
            "100%|██████████| 5248/5248 [00:00<00:00, 1782324.49it/s]\n",
            "100%|██████████| 5248/5248 [00:00<00:00, 1178167.71it/s]\n",
            "100%|██████████| 5248/5248 [00:00<00:00, 1535843.38it/s]\n",
            "100%|██████████| 5248/5248 [00:00<00:00, 1967263.15it/s]\n",
            "100%|██████████| 5248/5248 [00:00<00:00, 1759669.63it/s]\n",
            "100%|██████████| 5248/5248 [00:00<00:00, 1917396.11it/s]\n",
            "100%|██████████| 5248/5248 [00:00<00:00, 1364813.21it/s]\n",
            "100%|██████████| 5248/5248 [00:00<00:00, 1999973.41it/s]\n",
            "100%|██████████| 5248/5248 [00:00<00:00, 2235598.96it/s]\n",
            "100%|██████████| 5248/5248 [00:00<00:00, 1358411.96it/s]\n",
            "100%|██████████| 5248/5248 [00:00<00:00, 2704140.96it/s]\n",
            "100%|██████████| 5248/5248 [00:00<00:00, 1443106.76it/s]\n",
            "100%|██████████| 5248/5248 [00:00<00:00, 1887310.93it/s]\n",
            "100%|██████████| 5248/5248 [00:00<00:00, 1850967.66it/s]\n",
            "100%|██████████| 5248/5248 [00:00<00:00, 1351738.36it/s]\n",
            "100%|██████████| 5248/5248 [00:00<00:00, 1836757.96it/s]\n",
            "100%|██████████| 5248/5248 [00:00<00:00, 1920742.36it/s]\n",
            "100%|██████████| 5248/5248 [00:00<00:00, 1101852.50it/s]\n",
            "100%|██████████| 5248/5248 [00:00<00:00, 1676699.22it/s]\n",
            "100%|██████████| 5248/5248 [00:00<00:00, 1842138.04it/s]\n",
            "/usr/local/lib/python3.7/dist-packages/sklearn/linear_model/_sag.py:330: ConvergenceWarning: The max_iter was reached which means the coef_ did not converge\n",
            "  \"the coef_ did not converge\", ConvergenceWarning)\n",
            "100%|██████████| 5248/5248 [00:00<00:00, 1004275.36it/s]\n",
            "100%|██████████| 5248/5248 [00:00<00:00, 1703428.83it/s]\n",
            "100%|██████████| 5248/5248 [00:00<00:00, 1186039.52it/s]\n",
            "100%|██████████| 5248/5248 [00:00<00:00, 1756440.10it/s]\n",
            "100%|██████████| 5248/5248 [00:00<00:00, 815278.62it/s]\n",
            "100%|██████████| 5248/5248 [00:00<00:00, 1431190.34it/s]\n",
            "100%|██████████| 5248/5248 [00:00<00:00, 1342013.62it/s]\n",
            "100%|██████████| 5248/5248 [00:00<00:00, 1464810.50it/s]\n",
            "100%|██████████| 5248/5248 [00:00<00:00, 1886987.35it/s]\n",
            "100%|██████████| 5248/5248 [00:00<00:00, 1012404.90it/s]\n",
            "100%|██████████| 5248/5248 [00:00<00:00, 1738818.82it/s]\n",
            "100%|██████████| 5248/5248 [00:00<00:00, 933450.97it/s]\n",
            "100%|██████████| 5248/5248 [00:00<00:00, 1703956.29it/s]\n",
            "100%|██████████| 5248/5248 [00:00<00:00, 1049225.77it/s]\n",
            "100%|██████████| 5248/5248 [00:00<00:00, 1920742.36it/s]\n",
            "100%|██████████| 5248/5248 [00:00<00:00, 2667439.09it/s]\n",
            "100%|██████████| 5248/5248 [00:00<00:00, 2660668.12it/s]\n",
            "100%|██████████| 5248/5248 [00:00<00:00, 2632349.60it/s]\n",
            "100%|██████████| 5248/5248 [00:00<00:00, 935513.94it/s]\n",
            "100%|██████████| 5248/5248 [00:00<00:00, 1433520.51it/s]\n",
            "/usr/local/lib/python3.7/dist-packages/sklearn/linear_model/_sag.py:330: ConvergenceWarning: The max_iter was reached which means the coef_ did not converge\n",
            "  \"the coef_ did not converge\", ConvergenceWarning)\n",
            "100%|██████████| 5248/5248 [00:00<00:00, 1158632.88it/s]\n",
            "100%|██████████| 5248/5248 [00:00<00:00, 2146436.61it/s]\n",
            "100%|██████████| 5248/5248 [00:00<00:00, 1912066.31it/s]\n",
            "100%|██████████| 5248/5248 [00:00<00:00, 1195963.46it/s]\n",
            "100%|██████████| 5248/5248 [00:00<00:00, 1043951.03it/s]\n",
            "100%|██████████| 5248/5248 [00:00<00:00, 1074370.72it/s]\n",
            "100%|██████████| 5248/5248 [00:00<00:00, 1692166.93it/s]\n",
            "100%|██████████| 5248/5248 [00:00<00:00, 2814436.44it/s]\n",
            "100%|██████████| 5248/5248 [00:00<00:00, 1919067.78it/s]\n",
            "100%|██████████| 5248/5248 [00:00<00:00, 2493961.86it/s]\n",
            "100%|██████████| 5248/5248 [00:00<00:00, 1240445.61it/s]\n",
            "100%|██████████| 5248/5248 [00:00<00:00, 2026860.72it/s]\n",
            "100%|██████████| 5248/5248 [00:00<00:00, 2603395.32it/s]\n",
            "100%|██████████| 5248/5248 [00:00<00:00, 1991829.46it/s]\n",
            "100%|██████████| 5248/5248 [00:00<00:00, 1079163.96it/s]\n",
            "100%|██████████| 5248/5248 [00:00<00:00, 1202168.62it/s]\n",
            "100%|██████████| 5248/5248 [00:00<00:00, 1443579.97it/s]\n",
            "100%|██████████| 5248/5248 [00:00<00:00, 1261632.80it/s]\n",
            "100%|██████████| 5248/5248 [00:00<00:00, 1401394.75it/s]\n",
            "100%|██████████| 5248/5248 [00:00<00:00, 1596786.90it/s]\n",
            "/usr/local/lib/python3.7/dist-packages/sklearn/linear_model/_sag.py:330: ConvergenceWarning: The max_iter was reached which means the coef_ did not converge\n",
            "  \"the coef_ did not converge\", ConvergenceWarning)\n",
            "100%|██████████| 5248/5248 [00:00<00:00, 1110132.51it/s]\n",
            "100%|██████████| 5248/5248 [00:00<00:00, 1389277.16it/s]\n",
            "100%|██████████| 5248/5248 [00:00<00:00, 1446901.16it/s]\n",
            "100%|██████████| 5248/5248 [00:00<00:00, 2303684.71it/s]\n",
            "100%|██████████| 5248/5248 [00:00<00:00, 1230322.92it/s]\n",
            "100%|██████████| 5248/5248 [00:00<00:00, 1298625.80it/s]\n",
            "100%|██████████| 5248/5248 [00:00<00:00, 1891852.81it/s]\n",
            "100%|██████████| 5248/5248 [00:00<00:00, 922767.98it/s]\n",
            "100%|██████████| 5248/5248 [00:00<00:00, 866397.99it/s]\n",
            "100%|██████████| 5248/5248 [00:00<00:00, 967845.38it/s]\n",
            "100%|██████████| 5248/5248 [00:00<00:00, 2165440.96it/s]\n",
            "100%|██████████| 5248/5248 [00:00<00:00, 1158632.88it/s]\n",
            "100%|██████████| 5248/5248 [00:00<00:00, 2696191.50it/s]\n",
            "100%|██████████| 5248/5248 [00:00<00:00, 1245358.27it/s]\n",
            "100%|██████████| 5248/5248 [00:00<00:00, 2810124.78it/s]\n",
            "100%|██████████| 5248/5248 [00:00<00:00, 1712040.71it/s]\n",
            "100%|██████████| 5248/5248 [00:00<00:00, 1714040.44it/s]\n",
            "100%|██████████| 5248/5248 [00:00<00:00, 1075946.20it/s]\n",
            "100%|██████████| 5248/5248 [00:00<00:00, 756728.11it/s]\n",
            "100%|██████████| 5248/5248 [00:00<00:00, 1064395.91it/s]\n",
            "/usr/local/lib/python3.7/dist-packages/sklearn/linear_model/_sag.py:330: ConvergenceWarning: The max_iter was reached which means the coef_ did not converge\n",
            "  \"the coef_ did not converge\", ConvergenceWarning)\n",
            "100%|██████████| 5248/5248 [00:00<00:00, 1327686.07it/s]\n",
            "100%|██████████| 5248/5248 [00:00<00:00, 2594802.24it/s]\n",
            "100%|██████████| 5248/5248 [00:00<00:00, 1665534.76it/s]\n",
            "100%|██████████| 5248/5248 [00:00<00:00, 938825.70it/s]\n",
            "100%|██████████| 5248/5248 [00:00<00:00, 1726002.30it/s]\n",
            "100%|██████████| 5248/5248 [00:00<00:00, 1032444.06it/s]\n",
            "100%|██████████| 5248/5248 [00:00<00:00, 870475.24it/s]\n",
            "100%|██████████| 5248/5248 [00:00<00:00, 2347915.46it/s]\n",
            "100%|██████████| 5248/5248 [00:00<00:00, 2097351.82it/s]\n",
            "100%|██████████| 5248/5248 [00:00<00:00, 2656814.41it/s]\n",
            "100%|██████████| 5248/5248 [00:00<00:00, 1036967.42it/s]\n",
            "100%|██████████| 5248/5248 [00:00<00:00, 985834.26it/s]\n",
            "100%|██████████| 5248/5248 [00:00<00:00, 2539128.78it/s]\n",
            "100%|██████████| 5248/5248 [00:00<00:00, 1208903.09it/s]\n",
            "100%|██████████| 5248/5248 [00:00<00:00, 1131183.89it/s]\n",
            "100%|██████████| 5248/5248 [00:00<00:00, 1581982.71it/s]\n",
            "100%|██████████| 5248/5248 [00:00<00:00, 1091958.89it/s]\n",
            "100%|██████████| 5248/5248 [00:00<00:00, 920991.94it/s]\n",
            "100%|██████████| 5248/5248 [00:00<00:00, 1120873.17it/s]\n",
            "100%|██████████| 5248/5248 [00:00<00:00, 1352070.48it/s]\n",
            "/usr/local/lib/python3.7/dist-packages/sklearn/linear_model/_sag.py:330: ConvergenceWarning: The max_iter was reached which means the coef_ did not converge\n",
            "  \"the coef_ did not converge\", ConvergenceWarning)\n"
          ],
          "name": "stderr"
        },
        {
          "output_type": "stream",
          "text": [
            "Accuracy for Logistic Regression:  0.30320121951219514\n"
          ],
          "name": "stdout"
        }
      ]
    },
    {
      "cell_type": "markdown",
      "metadata": {
        "id": "iDgI7Y2TzF2F"
      },
      "source": [
        "# **Pipeline with Doc2Vec & RandomForest**"
      ]
    },
    {
      "cell_type": "code",
      "metadata": {
        "colab": {
          "base_uri": "https://localhost:8080/"
        },
        "id": "h-vJf0aRzJf8",
        "outputId": "ff22ee3e-de49-4bc4-a2e2-edd2105b27d3"
      },
      "source": [
        "from sklearn.ensemble import RandomForestClassifier\n",
        "\n",
        "pl_random_forest = Pipeline(steps=[('doc2vec',Doc2VecTransformer()),\n",
        "                                   ('random_forest', RandomForestClassifier())])\n",
        "scores = cross_val_score(pl_random_forest, df_x, df_y, cv=5,scoring='accuracy')\n",
        "print('Accuracy for RandomForest : ', scores.mean())"
      ],
      "execution_count": null,
      "outputs": [
        {
          "output_type": "stream",
          "text": [
            "100%|██████████| 5248/5248 [00:00<00:00, 2110220.25it/s]\n",
            "100%|██████████| 5248/5248 [00:00<00:00, 1001305.89it/s]\n",
            "100%|██████████| 5248/5248 [00:00<00:00, 1153169.92it/s]\n",
            "100%|██████████| 5248/5248 [00:00<00:00, 1580279.09it/s]\n",
            "100%|██████████| 5248/5248 [00:00<00:00, 1400503.11it/s]\n",
            "100%|██████████| 5248/5248 [00:00<00:00, 1630376.08it/s]\n",
            "100%|██████████| 5248/5248 [00:00<00:00, 1062700.11it/s]\n",
            "100%|██████████| 5248/5248 [00:00<00:00, 1907426.98it/s]\n",
            "100%|██████████| 5248/5248 [00:00<00:00, 1261705.11it/s]\n",
            "100%|██████████| 5248/5248 [00:00<00:00, 1082667.23it/s]\n",
            "100%|██████████| 5248/5248 [00:00<00:00, 2088397.29it/s]\n",
            "100%|██████████| 5248/5248 [00:00<00:00, 1572040.24it/s]\n",
            "100%|██████████| 5248/5248 [00:00<00:00, 1052788.76it/s]\n",
            "100%|██████████| 5248/5248 [00:00<00:00, 2066826.99it/s]\n",
            "100%|██████████| 5248/5248 [00:00<00:00, 1318303.13it/s]\n",
            "100%|██████████| 5248/5248 [00:00<00:00, 1398989.92it/s]\n",
            "100%|██████████| 5248/5248 [00:00<00:00, 1298166.28it/s]\n",
            "100%|██████████| 5248/5248 [00:00<00:00, 1808834.53it/s]\n",
            "100%|██████████| 5248/5248 [00:00<00:00, 1413998.03it/s]\n",
            "100%|██████████| 5248/5248 [00:00<00:00, 2120384.10it/s]\n",
            "100%|██████████| 5248/5248 [00:00<00:00, 2183051.41it/s]\n",
            "100%|██████████| 5248/5248 [00:00<00:00, 1779586.66it/s]\n",
            "100%|██████████| 5248/5248 [00:00<00:00, 1394558.25it/s]\n",
            "100%|██████████| 5248/5248 [00:00<00:00, 879096.90it/s]\n",
            "100%|██████████| 5248/5248 [00:00<00:00, 1815398.55it/s]\n",
            "100%|██████████| 5248/5248 [00:00<00:00, 2099752.68it/s]\n",
            "100%|██████████| 5248/5248 [00:00<00:00, 1109349.23it/s]\n",
            "100%|██████████| 5248/5248 [00:00<00:00, 1696209.25it/s]\n",
            "100%|██████████| 5248/5248 [00:00<00:00, 1325447.55it/s]\n",
            "100%|██████████| 5248/5248 [00:00<00:00, 1291009.23it/s]\n",
            "100%|██████████| 5248/5248 [00:00<00:00, 2082864.06it/s]\n",
            "100%|██████████| 5248/5248 [00:00<00:00, 1097129.41it/s]\n",
            "100%|██████████| 5248/5248 [00:00<00:00, 1169218.50it/s]\n",
            "100%|██████████| 5248/5248 [00:00<00:00, 1152083.50it/s]\n",
            "100%|██████████| 5248/5248 [00:00<00:00, 2033038.46it/s]\n",
            "100%|██████████| 5248/5248 [00:00<00:00, 869752.94it/s]\n",
            "100%|██████████| 5248/5248 [00:00<00:00, 1409380.68it/s]\n",
            "100%|██████████| 5248/5248 [00:00<00:00, 2185435.60it/s]\n",
            "100%|██████████| 5248/5248 [00:00<00:00, 1651786.54it/s]\n",
            "100%|██████████| 5248/5248 [00:00<00:00, 2576276.61it/s]\n",
            "100%|██████████| 5248/5248 [00:00<00:00, 1808537.29it/s]\n",
            "100%|██████████| 5248/5248 [00:00<00:00, 2275347.05it/s]\n",
            "100%|██████████| 5248/5248 [00:00<00:00, 923154.98it/s]\n",
            "100%|██████████| 5248/5248 [00:00<00:00, 1329932.17it/s]\n",
            "100%|██████████| 5248/5248 [00:00<00:00, 1653523.69it/s]\n",
            "100%|██████████| 5248/5248 [00:00<00:00, 1835379.59it/s]\n",
            "100%|██████████| 5248/5248 [00:00<00:00, 1260982.32it/s]\n",
            "100%|██████████| 5248/5248 [00:00<00:00, 1008462.34it/s]\n",
            "100%|██████████| 5248/5248 [00:00<00:00, 1033704.68it/s]\n",
            "100%|██████████| 5248/5248 [00:00<00:00, 1230116.65it/s]\n",
            "100%|██████████| 5248/5248 [00:00<00:00, 1518886.79it/s]\n",
            "100%|██████████| 5248/5248 [00:00<00:00, 2703144.71it/s]\n",
            "100%|██████████| 5248/5248 [00:00<00:00, 2591747.01it/s]\n",
            "100%|██████████| 5248/5248 [00:00<00:00, 1668817.85it/s]\n",
            "100%|██████████| 5248/5248 [00:00<00:00, 1250452.05it/s]\n",
            "100%|██████████| 5248/5248 [00:00<00:00, 1432307.87it/s]\n",
            "100%|██████████| 5248/5248 [00:00<00:00, 1597250.37it/s]\n",
            "100%|██████████| 5248/5248 [00:00<00:00, 2061986.64it/s]\n",
            "100%|██████████| 5248/5248 [00:00<00:00, 2195900.58it/s]\n",
            "100%|██████████| 5248/5248 [00:00<00:00, 1622923.20it/s]\n",
            "100%|██████████| 5248/5248 [00:00<00:00, 1757141.17it/s]\n",
            "100%|██████████| 5248/5248 [00:00<00:00, 2731658.90it/s]\n",
            "100%|██████████| 5248/5248 [00:00<00:00, 962218.37it/s]\n",
            "100%|██████████| 5248/5248 [00:00<00:00, 1165503.94it/s]\n",
            "100%|██████████| 5248/5248 [00:00<00:00, 679478.54it/s]\n",
            "100%|██████████| 5248/5248 [00:00<00:00, 1198633.60it/s]\n",
            "100%|██████████| 5248/5248 [00:00<00:00, 955825.58it/s]\n",
            "100%|██████████| 5248/5248 [00:00<00:00, 2499909.98it/s]\n",
            "100%|██████████| 5248/5248 [00:00<00:00, 1282808.29it/s]\n",
            "100%|██████████| 5248/5248 [00:00<00:00, 2124887.29it/s]\n",
            "100%|██████████| 5248/5248 [00:00<00:00, 2061214.29it/s]\n",
            "100%|██████████| 5248/5248 [00:00<00:00, 1760936.59it/s]\n",
            "100%|██████████| 5248/5248 [00:00<00:00, 1022183.87it/s]\n",
            "100%|██████████| 5248/5248 [00:00<00:00, 2210454.65it/s]\n",
            "100%|██████████| 5248/5248 [00:00<00:00, 1697386.44it/s]\n",
            "100%|██████████| 5248/5248 [00:00<00:00, 1632310.52it/s]\n",
            "100%|██████████| 5248/5248 [00:00<00:00, 969977.85it/s]\n",
            "100%|██████████| 5248/5248 [00:00<00:00, 2229033.66it/s]\n",
            "100%|██████████| 5248/5248 [00:00<00:00, 2019607.98it/s]\n",
            "100%|██████████| 5248/5248 [00:00<00:00, 1967263.15it/s]\n",
            "100%|██████████| 5248/5248 [00:00<00:00, 1377022.67it/s]\n",
            "100%|██████████| 5248/5248 [00:00<00:00, 2221609.55it/s]\n",
            "100%|██████████| 5248/5248 [00:00<00:00, 1425721.06it/s]\n",
            "100%|██████████| 5248/5248 [00:00<00:00, 1165133.78it/s]\n",
            "100%|██████████| 5248/5248 [00:00<00:00, 2058900.70it/s]\n",
            "100%|██████████| 5248/5248 [00:00<00:00, 978124.22it/s]\n",
            "100%|██████████| 5248/5248 [00:00<00:00, 1212966.74it/s]\n",
            "100%|██████████| 5248/5248 [00:00<00:00, 1372728.87it/s]\n",
            "100%|██████████| 5248/5248 [00:00<00:00, 1260693.44it/s]\n",
            "100%|██████████| 5248/5248 [00:00<00:00, 2608640.36it/s]\n",
            "100%|██████████| 5248/5248 [00:00<00:00, 991205.81it/s]\n",
            "100%|██████████| 5248/5248 [00:00<00:00, 1005927.58it/s]\n",
            "100%|██████████| 5248/5248 [00:00<00:00, 1484368.97it/s]\n",
            "100%|██████████| 5248/5248 [00:00<00:00, 436974.32it/s]\n",
            "100%|██████████| 5248/5248 [00:00<00:00, 1772421.89it/s]\n",
            "100%|██████████| 5248/5248 [00:00<00:00, 748850.36it/s]\n",
            "100%|██████████| 5248/5248 [00:00<00:00, 2012406.97it/s]\n",
            "100%|██████████| 5248/5248 [00:00<00:00, 1522985.36it/s]\n",
            "100%|██████████| 5248/5248 [00:00<00:00, 2125913.40it/s]\n",
            "100%|██████████| 5248/5248 [00:00<00:00, 1275523.40it/s]\n"
          ],
          "name": "stderr"
        },
        {
          "output_type": "stream",
          "text": [
            "Accuracy for RandomForest :  0.29878048780487804\n"
          ],
          "name": "stdout"
        }
      ]
    },
    {
      "cell_type": "markdown",
      "metadata": {
        "id": "MolRuvJhzI1P"
      },
      "source": [
        "# **Pipeline with Doc2Vec & XGBoost**"
      ]
    },
    {
      "cell_type": "code",
      "metadata": {
        "colab": {
          "base_uri": "https://localhost:8080/"
        },
        "id": "6hfjdEGnzU9x",
        "outputId": "f7019cfa-8447-4b5c-a721-e60716787e7d"
      },
      "source": [
        "import xgboost as xgb\n",
        "\n",
        "pl_xgb = Pipeline(steps=[('doc2vec',Doc2VecTransformer()),\n",
        "                         ('xgboost', xgb.XGBClassifier(objective='multi:softmax'))])\n",
        "scores = cross_val_score(pl_xgb, df_x, df_y, cv=5)\n",
        "print('Accuracy for XGBoost Classifier : ', scores.mean())"
      ],
      "execution_count": null,
      "outputs": [
        {
          "output_type": "stream",
          "text": [
            "100%|██████████| 5248/5248 [00:00<00:00, 1695164.22it/s]\n",
            "100%|██████████| 5248/5248 [00:00<00:00, 1391648.69it/s]\n",
            "100%|██████████| 5248/5248 [00:00<00:00, 1646966.51it/s]\n",
            "100%|██████████| 5248/5248 [00:00<00:00, 1142456.40it/s]\n",
            "100%|██████████| 5248/5248 [00:00<00:00, 1120759.03it/s]\n",
            "100%|██████████| 5248/5248 [00:00<00:00, 1803055.98it/s]\n",
            "100%|██████████| 5248/5248 [00:00<00:00, 2491139.36it/s]\n",
            "100%|██████████| 5248/5248 [00:00<00:00, 2674894.57it/s]\n",
            "100%|██████████| 5248/5248 [00:00<00:00, 1440745.35it/s]\n",
            "100%|██████████| 5248/5248 [00:00<00:00, 1332427.81it/s]\n",
            "100%|██████████| 5248/5248 [00:00<00:00, 2063339.65it/s]\n",
            "100%|██████████| 5248/5248 [00:00<00:00, 1928483.21it/s]\n",
            "100%|██████████| 5248/5248 [00:00<00:00, 1803499.17it/s]\n",
            "100%|██████████| 5248/5248 [00:00<00:00, 1133105.50it/s]\n",
            "100%|██████████| 5248/5248 [00:00<00:00, 1270077.17it/s]\n",
            "100%|██████████| 5248/5248 [00:00<00:00, 1261415.90it/s]\n",
            "100%|██████████| 5248/5248 [00:00<00:00, 1086086.12it/s]\n",
            "100%|██████████| 5248/5248 [00:00<00:00, 992680.95it/s]\n",
            "100%|██████████| 5248/5248 [00:00<00:00, 2678474.98it/s]\n",
            "100%|██████████| 5248/5248 [00:00<00:00, 1957988.56it/s]\n",
            "100%|██████████| 5248/5248 [00:00<00:00, 1113164.12it/s]\n",
            "100%|██████████| 5248/5248 [00:00<00:00, 1008924.57it/s]\n",
            "100%|██████████| 5248/5248 [00:00<00:00, 963397.56it/s]\n",
            "100%|██████████| 5248/5248 [00:00<00:00, 1056629.58it/s]\n",
            "100%|██████████| 5248/5248 [00:00<00:00, 1251732.01it/s]\n",
            "100%|██████████| 5248/5248 [00:00<00:00, 1204207.42it/s]\n",
            "100%|██████████| 5248/5248 [00:00<00:00, 1982322.35it/s]\n",
            "100%|██████████| 5248/5248 [00:00<00:00, 1922587.77it/s]\n",
            "100%|██████████| 5248/5248 [00:00<00:00, 1932546.74it/s]\n",
            "100%|██████████| 5248/5248 [00:00<00:00, 1520355.53it/s]\n",
            "100%|██████████| 5248/5248 [00:00<00:00, 2100153.36it/s]\n",
            "100%|██████████| 5248/5248 [00:00<00:00, 1135033.64it/s]\n",
            "100%|██████████| 5248/5248 [00:00<00:00, 1055464.27it/s]\n",
            "100%|██████████| 5248/5248 [00:00<00:00, 1297401.12it/s]\n",
            "100%|██████████| 5248/5248 [00:00<00:00, 2148531.71it/s]\n",
            "100%|██████████| 5248/5248 [00:00<00:00, 2785586.86it/s]\n",
            "100%|██████████| 5248/5248 [00:00<00:00, 1496580.60it/s]\n",
            "100%|██████████| 5248/5248 [00:00<00:00, 1120816.10it/s]\n",
            "100%|██████████| 5248/5248 [00:00<00:00, 1414997.90it/s]\n",
            "100%|██████████| 5248/5248 [00:00<00:00, 1033559.06it/s]\n",
            "100%|██████████| 5248/5248 [00:00<00:00, 2142050.15it/s]\n",
            "100%|██████████| 5248/5248 [00:00<00:00, 819711.29it/s]\n",
            "100%|██████████| 5248/5248 [00:00<00:00, 1624480.25it/s]\n",
            "100%|██████████| 5248/5248 [00:00<00:00, 1943123.89it/s]\n",
            "100%|██████████| 5248/5248 [00:00<00:00, 801883.69it/s]\n",
            "100%|██████████| 5248/5248 [00:00<00:00, 2340674.97it/s]\n",
            "100%|██████████| 5248/5248 [00:00<00:00, 1240655.36it/s]\n",
            "100%|██████████| 5248/5248 [00:00<00:00, 1043901.52it/s]\n",
            "100%|██████████| 5248/5248 [00:00<00:00, 1029932.03it/s]\n",
            "100%|██████████| 5248/5248 [00:00<00:00, 1223824.50it/s]\n",
            "100%|██████████| 5248/5248 [00:00<00:00, 2074032.54it/s]\n",
            "100%|██████████| 5248/5248 [00:00<00:00, 1651538.67it/s]\n",
            "100%|██████████| 5248/5248 [00:00<00:00, 2139343.71it/s]\n",
            "100%|██████████| 5248/5248 [00:00<00:00, 1778292.73it/s]\n",
            "100%|██████████| 5248/5248 [00:00<00:00, 2182185.72it/s]\n",
            "100%|██████████| 5248/5248 [00:00<00:00, 1299315.71it/s]\n",
            "100%|██████████| 5248/5248 [00:00<00:00, 778101.29it/s]\n",
            "100%|██████████| 5248/5248 [00:00<00:00, 2217134.10it/s]\n",
            "100%|██████████| 5248/5248 [00:00<00:00, 2131471.62it/s]\n",
            "100%|██████████| 5248/5248 [00:00<00:00, 1343652.02it/s]\n",
            "100%|██████████| 5248/5248 [00:00<00:00, 928411.46it/s]\n",
            "100%|██████████| 5248/5248 [00:00<00:00, 1300313.53it/s]\n",
            "100%|██████████| 5248/5248 [00:00<00:00, 938505.47it/s]\n",
            "100%|██████████| 5248/5248 [00:00<00:00, 1000032.14it/s]\n",
            "100%|██████████| 5248/5248 [00:00<00:00, 1016566.18it/s]\n",
            "100%|██████████| 5248/5248 [00:00<00:00, 1574176.31it/s]\n",
            "100%|██████████| 5248/5248 [00:00<00:00, 1793360.55it/s]\n",
            "100%|██████████| 5248/5248 [00:00<00:00, 2221833.79it/s]\n",
            "100%|██████████| 5248/5248 [00:00<00:00, 940389.94it/s]\n",
            "100%|██████████| 5248/5248 [00:00<00:00, 1351489.37it/s]\n",
            "100%|██████████| 5248/5248 [00:00<00:00, 1476899.32it/s]\n",
            "100%|██████████| 5248/5248 [00:00<00:00, 1441688.98it/s]\n",
            "100%|██████████| 5248/5248 [00:00<00:00, 2078340.80it/s]\n",
            "100%|██████████| 5248/5248 [00:00<00:00, 1644382.74it/s]\n",
            "100%|██████████| 5248/5248 [00:00<00:00, 1198960.04it/s]\n",
            "100%|██████████| 5248/5248 [00:00<00:00, 1150818.60it/s]\n",
            "100%|██████████| 5248/5248 [00:00<00:00, 2061407.32it/s]\n",
            "100%|██████████| 5248/5248 [00:00<00:00, 1533169.00it/s]\n",
            "100%|██████████| 5248/5248 [00:00<00:00, 1526259.01it/s]\n",
            "100%|██████████| 5248/5248 [00:00<00:00, 2026300.97it/s]\n",
            "100%|██████████| 5248/5248 [00:00<00:00, 1109125.64it/s]\n",
            "100%|██████████| 5248/5248 [00:00<00:00, 1427477.78it/s]\n",
            "100%|██████████| 5248/5248 [00:00<00:00, 1524356.47it/s]\n",
            "100%|██████████| 5248/5248 [00:00<00:00, 1002263.34it/s]\n",
            "100%|██████████| 5248/5248 [00:00<00:00, 2694211.43it/s]\n",
            "100%|██████████| 5248/5248 [00:00<00:00, 920491.26it/s]\n",
            "100%|██████████| 5248/5248 [00:00<00:00, 2257148.01it/s]\n",
            "100%|██████████| 5248/5248 [00:00<00:00, 1688791.42it/s]\n",
            "100%|██████████| 5248/5248 [00:00<00:00, 764030.11it/s]\n",
            "100%|██████████| 5248/5248 [00:00<00:00, 2237416.89it/s]\n",
            "100%|██████████| 5248/5248 [00:00<00:00, 1377884.66it/s]\n",
            "100%|██████████| 5248/5248 [00:00<00:00, 1042171.65it/s]\n",
            "100%|██████████| 5248/5248 [00:00<00:00, 1375903.70it/s]\n",
            "100%|██████████| 5248/5248 [00:00<00:00, 2412506.29it/s]\n",
            "100%|██████████| 5248/5248 [00:00<00:00, 2258769.36it/s]\n",
            "100%|██████████| 5248/5248 [00:00<00:00, 536962.59it/s]\n",
            "100%|██████████| 5248/5248 [00:00<00:00, 2036424.03it/s]\n",
            "100%|██████████| 5248/5248 [00:00<00:00, 1708452.92it/s]\n",
            "100%|██████████| 5248/5248 [00:00<00:00, 2796557.92it/s]\n",
            "100%|██████████| 5248/5248 [00:00<00:00, 922961.44it/s]\n"
          ],
          "name": "stderr"
        },
        {
          "output_type": "stream",
          "text": [
            "Accuracy for XGBoost Classifier :  0.2978658536585366\n"
          ],
          "name": "stdout"
        }
      ]
    },
    {
      "cell_type": "markdown",
      "metadata": {
        "id": "qAmsII5ZzUYR"
      },
      "source": [
        "# **Converting to Tf-Idf**"
      ]
    },
    {
      "cell_type": "code",
      "metadata": {
        "id": "S1VvtS-H0GgD"
      },
      "source": [
        "\n",
        "from sklearn.feature_extraction.text import TfidfVectorizer\n",
        "\n",
        "class Text2TfIdfTransformer(BaseEstimator):\n",
        "\n",
        "    def __init__(self):\n",
        "        self._model = TfidfVectorizer()\n",
        "        pass\n",
        "\n",
        "    def fit(self, df_x, df_y=None):\n",
        "        df_x = df_x.apply(lambda x : clean_text(x))\n",
        "        self._model.fit(df_x)\n",
        "        return self\n",
        "\n",
        "    def transform(self, df_x):\n",
        "        return self._model.transform(df_x)"
      ],
      "execution_count": null,
      "outputs": []
    },
    {
      "cell_type": "code",
      "metadata": {
        "id": "t3qHD8OC0KYT"
      },
      "source": [
        "tfidf_transformer = Text2TfIdfTransformer()\n",
        "tfidf_vectors = tfidf_transformer.fit(df_x).transform(df_x)"
      ],
      "execution_count": null,
      "outputs": []
    },
    {
      "cell_type": "code",
      "metadata": {
        "colab": {
          "base_uri": "https://localhost:8080/"
        },
        "id": "f9jMXmX70Ll-",
        "outputId": "0a64cdba-6f3b-4e65-80aa-991f2c43d470"
      },
      "source": [
        "tfidf_vectors.shape"
      ],
      "execution_count": null,
      "outputs": [
        {
          "output_type": "execute_result",
          "data": {
            "text/plain": [
              "(6560, 92687)"
            ]
          },
          "metadata": {
            "tags": []
          },
          "execution_count": 36
        }
      ]
    },
    {
      "cell_type": "code",
      "metadata": {
        "colab": {
          "base_uri": "https://localhost:8080/"
        },
        "id": "57vOQZBT0NqW",
        "outputId": "801cbf09-0bd1-4738-feeb-43a687aed899"
      },
      "source": [
        "print(tfidf_vectors)"
      ],
      "execution_count": null,
      "outputs": [
        {
          "output_type": "stream",
          "text": [
            "  (0, 91940)\t0.027908960498276254\n",
            "  (0, 91936)\t0.019734138139871366\n",
            "  (0, 90782)\t0.028012940052339813\n",
            "  (0, 90610)\t0.05657815833234187\n",
            "  (0, 90528)\t0.04000136254025938\n",
            "  (0, 90446)\t0.030519654077069337\n",
            "  (0, 90398)\t0.03876337774383096\n",
            "  (0, 90310)\t0.055752551073917515\n",
            "  (0, 90041)\t0.10705475518156729\n",
            "  (0, 88330)\t0.06554164394526742\n",
            "  (0, 88177)\t0.048927836291719345\n",
            "  (0, 87912)\t0.06588943177191513\n",
            "  (0, 86890)\t0.03670419312862527\n",
            "  (0, 85273)\t0.19396300266461156\n",
            "  (0, 85049)\t0.04640045164261362\n",
            "  (0, 84552)\t0.1480741827790403\n",
            "  (0, 84437)\t0.07688715399580964\n",
            "  (0, 84355)\t0.04220215260597453\n",
            "  (0, 82034)\t0.12146385346799465\n",
            "  (0, 80585)\t0.03963818079003491\n",
            "  (0, 80525)\t0.030881622974639717\n",
            "  (0, 80430)\t0.02516791879337054\n",
            "  (0, 79645)\t0.06184329915909568\n",
            "  (0, 78834)\t0.09436954930845352\n",
            "  (0, 77577)\t0.094856473633696\n",
            "  :\t:\n",
            "  (6559, 38497)\t0.057934703327479777\n",
            "  (6559, 38138)\t0.11479598650845217\n",
            "  (6559, 36934)\t0.053332836886585584\n",
            "  (6559, 36063)\t0.05243577187874219\n",
            "  (6559, 35575)\t0.0806341410408756\n",
            "  (6559, 34454)\t0.07407752123360374\n",
            "  (6559, 34251)\t0.13585520233538265\n",
            "  (6559, 33014)\t0.06117642330997304\n",
            "  (6559, 32632)\t0.02147905859139143\n",
            "  (6559, 32033)\t0.02922770162481384\n",
            "  (6559, 30980)\t0.03725119629889627\n",
            "  (6559, 30910)\t0.07187003094858081\n",
            "  (6559, 30448)\t0.017868661663887894\n",
            "  (6559, 30392)\t0.052249304218276636\n",
            "  (6559, 29609)\t0.043523446448515406\n",
            "  (6559, 29181)\t0.03814908527612365\n",
            "  (6559, 29104)\t0.034764224732763416\n",
            "  (6559, 29051)\t0.036627460440343346\n",
            "  (6559, 27358)\t0.037201714934936084\n",
            "  (6559, 27168)\t0.03996093978153843\n",
            "  (6559, 26697)\t0.014416239311029984\n",
            "  (6559, 26628)\t0.022653653618521567\n",
            "  (6559, 26486)\t0.027278094111857176\n",
            "  (6559, 26480)\t0.04097261568233822\n",
            "  (6559, 23486)\t0.06132289386392608\n"
          ],
          "name": "stdout"
        }
      ]
    },
    {
      "cell_type": "markdown",
      "metadata": {
        "id": "dWxrUAtR0F-f"
      },
      "source": [
        "Pipeline with Tf-Idf & LogisticRegression"
      ]
    },
    {
      "cell_type": "code",
      "metadata": {
        "colab": {
          "base_uri": "https://localhost:8080/"
        },
        "id": "hV-TrQ-w0UK8",
        "outputId": "c1577931-1839-4552-9f54-2635788bbc62"
      },
      "source": [
        "\n",
        "pl_log_reg_tf_idf = Pipeline(steps=[('tfidf',Text2TfIdfTransformer()),\n",
        "                                    ('log_reg', LogisticRegression(multi_class='multinomial', solver='saga', max_iter=100))])\n",
        "scores = cross_val_score(pl_log_reg_tf_idf, df_x, df_y, cv=5,scoring='accuracy')\n",
        "print('Accuracy for Tf-Idf & Logistic Regression: ', scores.mean())"
      ],
      "execution_count": null,
      "outputs": [
        {
          "output_type": "stream",
          "text": [
            "Accuracy for Tf-Idf & Logistic Regression:  0.5946646341463415\n"
          ],
          "name": "stdout"
        }
      ]
    },
    {
      "cell_type": "markdown",
      "metadata": {
        "id": "ampS00wY0W92"
      },
      "source": [
        "Pipeline with Tf-Idf & RandomForest"
      ]
    },
    {
      "cell_type": "code",
      "metadata": {
        "colab": {
          "base_uri": "https://localhost:8080/"
        },
        "id": "CCFotgkU0aXY",
        "outputId": "bfbd2c44-4980-439f-8828-9d69027e33e0"
      },
      "source": [
        "\n",
        "pl_random_forest_tf_idf = Pipeline(steps=[('tfidf',Text2TfIdfTransformer()),\n",
        "                                          ('random_forest', RandomForestClassifier())])\n",
        "scores = cross_val_score(pl_random_forest_tf_idf, df_x, df_y, cv=5,scoring='accuracy')\n",
        "print('Accuracy for Tf-Idf & RandomForest : ', scores.mean())"
      ],
      "execution_count": null,
      "outputs": [
        {
          "output_type": "stream",
          "text": [
            "Accuracy for Tf-Idf & RandomForest :  0.5664634146341463\n"
          ],
          "name": "stdout"
        }
      ]
    },
    {
      "cell_type": "markdown",
      "metadata": {
        "id": "KTDjgG3S0c7G"
      },
      "source": [
        "Pipeline with Tf-Idf & XGBoost"
      ]
    },
    {
      "cell_type": "code",
      "metadata": {
        "id": "VSmtlATx0fNr",
        "colab": {
          "base_uri": "https://localhost:8080/"
        },
        "outputId": "2e629b8d-e535-4ac5-d578-7ff05a4d42f3"
      },
      "source": [
        "pl_xgb_tf_idf = Pipeline(steps=[('tfidf',Text2TfIdfTransformer()),\n",
        "                         ('xgboost', xgb.XGBClassifier(objective='multi:softmax'))])\n",
        "scores = cross_val_score(pl_xgb_tf_idf, df_x, df_y, cv=5)\n",
        "print('Accuracy for Tf-Idf & XGBoost Classifier : ', scores.mean())"
      ],
      "execution_count": null,
      "outputs": [
        {
          "output_type": "stream",
          "text": [
            "Accuracy for Tf-Idf & XGBoost Classifier :  0.6460365853658537\n"
          ],
          "name": "stdout"
        }
      ]
    },
    {
      "cell_type": "markdown",
      "metadata": {
        "id": "nqbalep-0rn_"
      },
      "source": [
        "#### *Best* accuracy: 0.6460365853658537\n"
      ]
    }
  ]
}