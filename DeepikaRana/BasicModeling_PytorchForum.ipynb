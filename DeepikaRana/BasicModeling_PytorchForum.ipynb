{
  "nbformat": 4,
  "nbformat_minor": 0,
  "metadata": {
    "colab": {
      "name": "BasicModeling_PytorchForum.ipynb",
      "provenance": [],
      "collapsed_sections": []
    },
    "kernelspec": {
      "name": "python3",
      "display_name": "Python 3"
    },
    "language_info": {
      "name": "python"
    },
    "accelerator": "GPU"
  },
  "cells": [
    {
      "cell_type": "markdown",
      "metadata": {
        "id": "JmWshSS0fMCZ"
      },
      "source": [
        "# **Data Preprocessing and Basic Models**\n",
        "\n",
        "Forum used - [Pytorch](https://discuss.pytorch.org/)\n",
        "\n",
        "> Explore Data\n",
        "\n",
        "> Data Preprocessing\n",
        "\n",
        "> Data Modelling\n",
        "\n"
      ]
    },
    {
      "cell_type": "code",
      "metadata": {
        "colab": {
          "base_uri": "https://localhost:8080/"
        },
        "id": "nObmTf86qHeo",
        "outputId": "1cfe246d-cd4d-4a73-e5df-2bc12efbae26"
      },
      "source": [
        "from google.colab import drive\n",
        "drive.mount('/content/drive')"
      ],
      "execution_count": null,
      "outputs": [
        {
          "output_type": "stream",
          "text": [
            "Mounted at /content/drive\n"
          ],
          "name": "stdout"
        }
      ]
    },
    {
      "cell_type": "code",
      "metadata": {
        "colab": {
          "base_uri": "https://localhost:8080/",
          "height": 306
        },
        "id": "qegvQ2mkpwzh",
        "outputId": "2acf17ee-36ed-4668-8887-0ef29a0884f2"
      },
      "source": [
        "import pandas as pd\n",
        "data = pd.read_csv('/content/drive/My Drive/PytorchCommunityData.csv')\n",
        "data.head()"
      ],
      "execution_count": null,
      "outputs": [
        {
          "output_type": "execute_result",
          "data": {
            "text/html": [
              "<div>\n",
              "<style scoped>\n",
              "    .dataframe tbody tr th:only-of-type {\n",
              "        vertical-align: middle;\n",
              "    }\n",
              "\n",
              "    .dataframe tbody tr th {\n",
              "        vertical-align: top;\n",
              "    }\n",
              "\n",
              "    .dataframe thead th {\n",
              "        text-align: right;\n",
              "    }\n",
              "</style>\n",
              "<table border=\"1\" class=\"dataframe\">\n",
              "  <thead>\n",
              "    <tr style=\"text-align: right;\">\n",
              "      <th></th>\n",
              "      <th>Unnamed: 0</th>\n",
              "      <th>Topic Title</th>\n",
              "      <th>Category</th>\n",
              "      <th>Tags</th>\n",
              "      <th>Leading Post</th>\n",
              "      <th>Post Replies</th>\n",
              "      <th>Created_at</th>\n",
              "      <th>Likes</th>\n",
              "      <th>Views</th>\n",
              "      <th>Replies</th>\n",
              "    </tr>\n",
              "  </thead>\n",
              "  <tbody>\n",
              "    <tr>\n",
              "      <th>0</th>\n",
              "      <td>113</td>\n",
              "      <td>About the audio category</td>\n",
              "      <td>audio</td>\n",
              "      <td>[]</td>\n",
              "      <td>(Replace this first paragraph with a brief des...</td>\n",
              "      <td>['It would be nice to have some links or somet...</td>\n",
              "      <td>3/15/2018 8:35</td>\n",
              "      <td>0</td>\n",
              "      <td>643</td>\n",
              "      <td>2</td>\n",
              "    </tr>\n",
              "    <tr>\n",
              "      <th>1</th>\n",
              "      <td>114</td>\n",
              "      <td>Error while importing torchaudio</td>\n",
              "      <td>audio</td>\n",
              "      <td>[]</td>\n",
              "      <td>\\n Bug\\nI’m getting this error:\\nAttributeErro...</td>\n",
              "      <td>[]</td>\n",
              "      <td>0</td>\n",
              "      <td>0</td>\n",
              "      <td>0</td>\n",
              "      <td>0</td>\n",
              "    </tr>\n",
              "    <tr>\n",
              "      <th>2</th>\n",
              "      <td>115</td>\n",
              "      <td>How do I know which spectrogram frames belong ...</td>\n",
              "      <td>audio</td>\n",
              "      <td>[]</td>\n",
              "      <td>I’ve been using this script:\\nspgram = torchau...</td>\n",
              "      <td>[]</td>\n",
              "      <td>0</td>\n",
              "      <td>0</td>\n",
              "      <td>0</td>\n",
              "      <td>0</td>\n",
              "    </tr>\n",
              "    <tr>\n",
              "      <th>3</th>\n",
              "      <td>116</td>\n",
              "      <td>Constant/Variable Q Transform</td>\n",
              "      <td>audio</td>\n",
              "      <td>[]</td>\n",
              "      <td>Hi,\\nI’ve been looking into using a Constant Q...</td>\n",
              "      <td>[]</td>\n",
              "      <td>0</td>\n",
              "      <td>0</td>\n",
              "      <td>0</td>\n",
              "      <td>0</td>\n",
              "    </tr>\n",
              "    <tr>\n",
              "      <th>4</th>\n",
              "      <td>117</td>\n",
              "      <td>Invalid argument 0: Sizes of tensors must matc...</td>\n",
              "      <td>audio</td>\n",
              "      <td>[]</td>\n",
              "      <td>Hello, I am trying to train a speech enhanceme...</td>\n",
              "      <td>['These shape errors are often created for odd...</td>\n",
              "      <td>07-06-21 10:13</td>\n",
              "      <td>0</td>\n",
              "      <td>29</td>\n",
              "      <td>1</td>\n",
              "    </tr>\n",
              "  </tbody>\n",
              "</table>\n",
              "</div>"
            ],
            "text/plain": [
              "   Unnamed: 0                                        Topic Title  ... Views Replies\n",
              "0         113                           About the audio category  ...   643       2\n",
              "1         114                   Error while importing torchaudio  ...     0       0\n",
              "2         115  How do I know which spectrogram frames belong ...  ...     0       0\n",
              "3         116                      Constant/Variable Q Transform  ...     0       0\n",
              "4         117  Invalid argument 0: Sizes of tensors must matc...  ...    29       1\n",
              "\n",
              "[5 rows x 10 columns]"
            ]
          },
          "metadata": {
            "tags": []
          },
          "execution_count": 7
        }
      ]
    },
    {
      "cell_type": "code",
      "metadata": {
        "colab": {
          "base_uri": "https://localhost:8080/"
        },
        "id": "6phyN0bmqemB",
        "outputId": "e4c60351-cbd1-43ea-8dfd-fd9ea47aeba7"
      },
      "source": [
        "data.columns"
      ],
      "execution_count": null,
      "outputs": [
        {
          "output_type": "execute_result",
          "data": {
            "text/plain": [
              "Index(['Unnamed: 0', 'Topic Title', 'Category', 'Tags', 'Leading Post',\n",
              "       'Post Replies', 'Created_at', 'Likes', 'Views', 'Replies'],\n",
              "      dtype='object')"
            ]
          },
          "metadata": {
            "tags": []
          },
          "execution_count": 8
        }
      ]
    },
    {
      "cell_type": "code",
      "metadata": {
        "colab": {
          "base_uri": "https://localhost:8080/",
          "height": 606
        },
        "id": "sb4xOcPrqkLj",
        "outputId": "0e5da573-c20e-4ea9-f7af-8d5f4aa1c0ae"
      },
      "source": [
        "data.drop(columns= ['Created_at', 'Replies'], inplace=True)\n",
        "data"
      ],
      "execution_count": null,
      "outputs": [
        {
          "output_type": "execute_result",
          "data": {
            "text/html": [
              "<div>\n",
              "<style scoped>\n",
              "    .dataframe tbody tr th:only-of-type {\n",
              "        vertical-align: middle;\n",
              "    }\n",
              "\n",
              "    .dataframe tbody tr th {\n",
              "        vertical-align: top;\n",
              "    }\n",
              "\n",
              "    .dataframe thead th {\n",
              "        text-align: right;\n",
              "    }\n",
              "</style>\n",
              "<table border=\"1\" class=\"dataframe\">\n",
              "  <thead>\n",
              "    <tr style=\"text-align: right;\">\n",
              "      <th></th>\n",
              "      <th>Unnamed: 0</th>\n",
              "      <th>Topic Title</th>\n",
              "      <th>Category</th>\n",
              "      <th>Tags</th>\n",
              "      <th>Leading Post</th>\n",
              "      <th>Post Replies</th>\n",
              "      <th>Likes</th>\n",
              "      <th>Views</th>\n",
              "    </tr>\n",
              "  </thead>\n",
              "  <tbody>\n",
              "    <tr>\n",
              "      <th>0</th>\n",
              "      <td>113</td>\n",
              "      <td>About the audio category</td>\n",
              "      <td>audio</td>\n",
              "      <td>[]</td>\n",
              "      <td>(Replace this first paragraph with a brief des...</td>\n",
              "      <td>['It would be nice to have some links or somet...</td>\n",
              "      <td>0</td>\n",
              "      <td>643</td>\n",
              "    </tr>\n",
              "    <tr>\n",
              "      <th>1</th>\n",
              "      <td>114</td>\n",
              "      <td>Error while importing torchaudio</td>\n",
              "      <td>audio</td>\n",
              "      <td>[]</td>\n",
              "      <td>\\n Bug\\nI’m getting this error:\\nAttributeErro...</td>\n",
              "      <td>[]</td>\n",
              "      <td>0</td>\n",
              "      <td>0</td>\n",
              "    </tr>\n",
              "    <tr>\n",
              "      <th>2</th>\n",
              "      <td>115</td>\n",
              "      <td>How do I know which spectrogram frames belong ...</td>\n",
              "      <td>audio</td>\n",
              "      <td>[]</td>\n",
              "      <td>I’ve been using this script:\\nspgram = torchau...</td>\n",
              "      <td>[]</td>\n",
              "      <td>0</td>\n",
              "      <td>0</td>\n",
              "    </tr>\n",
              "    <tr>\n",
              "      <th>3</th>\n",
              "      <td>116</td>\n",
              "      <td>Constant/Variable Q Transform</td>\n",
              "      <td>audio</td>\n",
              "      <td>[]</td>\n",
              "      <td>Hi,\\nI’ve been looking into using a Constant Q...</td>\n",
              "      <td>[]</td>\n",
              "      <td>0</td>\n",
              "      <td>0</td>\n",
              "    </tr>\n",
              "    <tr>\n",
              "      <th>4</th>\n",
              "      <td>117</td>\n",
              "      <td>Invalid argument 0: Sizes of tensors must matc...</td>\n",
              "      <td>audio</td>\n",
              "      <td>[]</td>\n",
              "      <td>Hello, I am trying to train a speech enhanceme...</td>\n",
              "      <td>['These shape errors are often created for odd...</td>\n",
              "      <td>0</td>\n",
              "      <td>29</td>\n",
              "    </tr>\n",
              "    <tr>\n",
              "      <th>...</th>\n",
              "      <td>...</td>\n",
              "      <td>...</td>\n",
              "      <td>...</td>\n",
              "      <td>...</td>\n",
              "      <td>...</td>\n",
              "      <td>...</td>\n",
              "      <td>...</td>\n",
              "      <td>...</td>\n",
              "    </tr>\n",
              "    <tr>\n",
              "      <th>6555</th>\n",
              "      <td>7054</td>\n",
              "      <td>RuntimeError due to inplace operation</td>\n",
              "      <td>autograd</td>\n",
              "      <td>[]</td>\n",
              "      <td>I’m still trying to wrap my head around PyTorc...</td>\n",
              "      <td>['The error you had before the present one, na...</td>\n",
              "      <td>3</td>\n",
              "      <td>118</td>\n",
              "    </tr>\n",
              "    <tr>\n",
              "      <th>6556</th>\n",
              "      <td>7055</td>\n",
              "      <td>Gradient of FC with respect to each sample in ...</td>\n",
              "      <td>autograd</td>\n",
              "      <td>[]</td>\n",
              "      <td>I want to get gradient of FC layer of network ...</td>\n",
              "      <td>['autograd automatically condenses the gradien...</td>\n",
              "      <td>0</td>\n",
              "      <td>75</td>\n",
              "    </tr>\n",
              "    <tr>\n",
              "      <th>6557</th>\n",
              "      <td>7056</td>\n",
              "      <td>The second order derivative of a function with...</td>\n",
              "      <td>autograd</td>\n",
              "      <td>[]</td>\n",
              "      <td>Hi,\\nI have a question about the second order ...</td>\n",
              "      <td>['Hi,\\nThe problem is that your function is li...</td>\n",
              "      <td>2</td>\n",
              "      <td>100</td>\n",
              "    </tr>\n",
              "    <tr>\n",
              "      <th>6558</th>\n",
              "      <td>7057</td>\n",
              "      <td>.grad attribute of a non-leaf tensor being acc...</td>\n",
              "      <td>autograd</td>\n",
              "      <td>[]</td>\n",
              "      <td>Hi there, im a newbie at pytorch.\\nI am runnin...</td>\n",
              "      <td>['Hi,\\nThis warning only means that you are ac...</td>\n",
              "      <td>9</td>\n",
              "      <td>6.7k</td>\n",
              "    </tr>\n",
              "    <tr>\n",
              "      <th>6559</th>\n",
              "      <td>7058</td>\n",
              "      <td>How to implement a custom init scheme?</td>\n",
              "      <td>autograd</td>\n",
              "      <td>[]</td>\n",
              "      <td>Hello, I’d like to know how to properly implem...</td>\n",
              "      <td>['You could wrap the code into the no_grad() g...</td>\n",
              "      <td>1</td>\n",
              "      <td>62</td>\n",
              "    </tr>\n",
              "  </tbody>\n",
              "</table>\n",
              "<p>6560 rows × 8 columns</p>\n",
              "</div>"
            ],
            "text/plain": [
              "      Unnamed: 0                                        Topic Title  ... Likes Views\n",
              "0            113                           About the audio category  ...     0   643\n",
              "1            114                   Error while importing torchaudio  ...     0     0\n",
              "2            115  How do I know which spectrogram frames belong ...  ...     0     0\n",
              "3            116                      Constant/Variable Q Transform  ...     0     0\n",
              "4            117  Invalid argument 0: Sizes of tensors must matc...  ...     0    29\n",
              "...          ...                                                ...  ...   ...   ...\n",
              "6555        7054              RuntimeError due to inplace operation  ...     3   118\n",
              "6556        7055  Gradient of FC with respect to each sample in ...  ...     0    75\n",
              "6557        7056  The second order derivative of a function with...  ...     2   100\n",
              "6558        7057  .grad attribute of a non-leaf tensor being acc...  ...     9  6.7k\n",
              "6559        7058             How to implement a custom init scheme?  ...     1    62\n",
              "\n",
              "[6560 rows x 8 columns]"
            ]
          },
          "metadata": {
            "tags": []
          },
          "execution_count": 9
        }
      ]
    },
    {
      "cell_type": "markdown",
      "metadata": {
        "id": "zPC0v63MuiTK"
      },
      "source": [
        "##Strategy\n",
        "\n",
        "Lower case all the words\n",
        "\n",
        "Replaced by space these [/(){}[]\\'\\“\\”\\’|@,;]\n",
        "\n",
        "Removed these [^0-9a-z #+_]\n",
        "\n",
        "Remove Stopwords"
      ]
    },
    {
      "cell_type": "markdown",
      "metadata": {
        "id": "kbdI2CXrumvn"
      },
      "source": [
        "# Explore the data"
      ]
    },
    {
      "cell_type": "code",
      "metadata": {
        "id": "l8K-sgxqqnDU"
      },
      "source": [
        "import logging\n",
        "import pandas as pd\n",
        "import numpy as np\n",
        "from numpy import random\n",
        "import gensim\n",
        "import nltk\n",
        "#nltk.download('stopwords')\n",
        "from sklearn.model_selection import train_test_split\n",
        "from sklearn.feature_extraction.text import CountVectorizer, TfidfVectorizer\n",
        "from sklearn.metrics import accuracy_score, confusion_matrix\n",
        "import matplotlib.pyplot as plt\n",
        "from nltk.corpus import stopwords\n",
        "import re\n",
        "from bs4 import BeautifulSoup\n",
        "%matplotlib inline"
      ],
      "execution_count": null,
      "outputs": []
    },
    {
      "cell_type": "code",
      "metadata": {
        "id": "QyY9K-b9uUHo"
      },
      "source": [
        "df = data.copy()"
      ],
      "execution_count": null,
      "outputs": []
    },
    {
      "cell_type": "code",
      "metadata": {
        "colab": {
          "base_uri": "https://localhost:8080/"
        },
        "id": "3VX1L-64u3hA",
        "outputId": "3a5d4698-18af-430e-9d01-59ad8e3701fd"
      },
      "source": [
        "df.info()"
      ],
      "execution_count": null,
      "outputs": [
        {
          "output_type": "stream",
          "text": [
            "<class 'pandas.core.frame.DataFrame'>\n",
            "RangeIndex: 6560 entries, 0 to 6559\n",
            "Data columns (total 8 columns):\n",
            " #   Column        Non-Null Count  Dtype \n",
            "---  ------        --------------  ----- \n",
            " 0   Unnamed: 0    6560 non-null   int64 \n",
            " 1   Topic Title   6560 non-null   object\n",
            " 2   Category      6560 non-null   object\n",
            " 3   Tags          4560 non-null   object\n",
            " 4   Leading Post  6559 non-null   object\n",
            " 5   Post Replies  6560 non-null   object\n",
            " 6   Likes         6543 non-null   object\n",
            " 7   Views         6543 non-null   object\n",
            "dtypes: int64(1), object(7)\n",
            "memory usage: 410.1+ KB\n"
          ],
          "name": "stdout"
        }
      ]
    },
    {
      "cell_type": "code",
      "metadata": {
        "colab": {
          "base_uri": "https://localhost:8080/"
        },
        "id": "2R8rd0Ef-j65",
        "outputId": "88af9453-09f1-4929-bbf8-89841fbbd5a3"
      },
      "source": [
        "df.isnull().sum()"
      ],
      "execution_count": null,
      "outputs": [
        {
          "output_type": "execute_result",
          "data": {
            "text/plain": [
              "Unnamed: 0         0\n",
              "Topic Title        0\n",
              "Category           0\n",
              "Tags            2000\n",
              "Leading Post       1\n",
              "Post Replies       0\n",
              "Likes             17\n",
              "Views             17\n",
              "dtype: int64"
            ]
          },
          "metadata": {
            "tags": []
          },
          "execution_count": 27
        }
      ]
    },
    {
      "cell_type": "code",
      "metadata": {
        "id": "LCZBVb8_8as1"
      },
      "source": [
        "df[\"Tags\"].fillna(\"[]\", inplace = True)"
      ],
      "execution_count": null,
      "outputs": []
    },
    {
      "cell_type": "code",
      "metadata": {
        "id": "56MkJFXy-oPe"
      },
      "source": [
        "df[\"Leading Post\"].fillna(\"\", inplace = True)"
      ],
      "execution_count": null,
      "outputs": []
    },
    {
      "cell_type": "code",
      "metadata": {
        "colab": {
          "base_uri": "https://localhost:8080/"
        },
        "id": "UJ2Er5Xwu6sf",
        "outputId": "dea172c3-45e8-491d-bfcb-b89ef07d6d20"
      },
      "source": [
        "df['post'] = df['Topic Title'] + ' ' + ' ' + df['Post Replies'] + df['Leading Post']\n",
        "\n",
        "df['post'].head()"
      ],
      "execution_count": null,
      "outputs": [
        {
          "output_type": "execute_result",
          "data": {
            "text/plain": [
              "0    About the audio category  ['It would be nice t...\n",
              "1    Error while importing torchaudio  []\\n Bug\\nI’...\n",
              "2    How do I know which spectrogram frames belong ...\n",
              "3    Constant/Variable Q Transform  []Hi,\\nI’ve bee...\n",
              "4    Invalid argument 0: Sizes of tensors must matc...\n",
              "Name: post, dtype: object"
            ]
          },
          "metadata": {
            "tags": []
          },
          "execution_count": 30
        }
      ]
    },
    {
      "cell_type": "code",
      "metadata": {
        "colab": {
          "base_uri": "https://localhost:8080/"
        },
        "id": "O9fF20F0vH9c",
        "outputId": "8d026e74-dc6b-431a-bb60-d721fd960aaa"
      },
      "source": [
        "df['post'].astype(str)"
      ],
      "execution_count": null,
      "outputs": [
        {
          "output_type": "execute_result",
          "data": {
            "text/plain": [
              "0       About the audio category  ['It would be nice t...\n",
              "1       Error while importing torchaudio  []\\n Bug\\nI’...\n",
              "2       How do I know which spectrogram frames belong ...\n",
              "3       Constant/Variable Q Transform  []Hi,\\nI’ve bee...\n",
              "4       Invalid argument 0: Sizes of tensors must matc...\n",
              "                              ...                        \n",
              "6555    RuntimeError due to inplace operation  ['The e...\n",
              "6556    Gradient of FC with respect to each sample in ...\n",
              "6557    The second order derivative of a function with...\n",
              "6558    .grad attribute of a non-leaf tensor being acc...\n",
              "6559    How to implement a custom init scheme?  ['You ...\n",
              "Name: post, Length: 6560, dtype: object"
            ]
          },
          "metadata": {
            "tags": []
          },
          "execution_count": 31
        }
      ]
    },
    {
      "cell_type": "code",
      "metadata": {
        "colab": {
          "base_uri": "https://localhost:8080/",
          "height": 137
        },
        "id": "6HuQpUyu0XDs",
        "outputId": "9a2f58be-088e-4a1a-ae6c-5edd4d77a5e4"
      },
      "source": [
        "df['post'][1]"
      ],
      "execution_count": null,
      "outputs": [
        {
          "output_type": "execute_result",
          "data": {
            "application/vnd.google.colaboratory.intrinsic+json": {
              "type": "string"
            },
            "text/plain": [
              "\"Error while importing torchaudio  []\\n Bug\\nI’m getting this error:\\nAttributeError: module 'torchaudio._internal.module_utils' has no attribute 'requires_sox'\\nwhile importing torchaudio\\n\\nTo Reproduce\\nI’m using a kaggle notebook\\njust executed these lines:\\n!pip install --upgrade torch\\n!pip install --upgrade torchaudio\\nimport torchaudio\\n\\n\\nEnvironment\\n(collect_env.py output)\\nPyTorch version: 1.9.0+cu102\\nIs debug build: False\\nCUDA used to build PyTorch: 10.2\\nROCM used to build PyTorch: N/A\\nOS: Ubuntu 18.04.5 LTS (x86_64)\\nGCC version: (Ubuntu 7.5.0-3ubuntu1~18.04) 7.5.0\\nClang version: Could not collect\\nCMake version: version 3.10.2\\nLibc version: glibc-2.10\\nPython version: 3.7.10 | packaged by conda-forge | (default, Feb 19 2021, 16:07:37)  [GCC 9.3.0] (64-bit runtime)\\nPython platform: Linux-5.4.120±x86_64-with-debian-buster-sid\\nIs CUDA available: True\\nCUDA runtime version: 11.0.221\\nGPU models and configuration: GPU 0: Tesla P100-PCIE-16GB\\nNvidia driver version: 450.119.04\\ncuDNN version: Probably one of the following:\\n/usr/lib/x86_64-linux-gnu/libcudnn.so.8.0.4\\n/usr/lib/x86_64-linux-gnu/libcudnn_adv_infer.so.8.0.4\\n/usr/lib/x86_64-linux-gnu/libcudnn_adv_train.so.8.0.4\\n/usr/lib/x86_64-linux-gnu/libcudnn_cnn_infer.so.8.0.4\\n/usr/lib/x86_64-linux-gnu/libcudnn_cnn_train.so.8.0.4\\n/usr/lib/x86_64-linux-gnu/libcudnn_ops_infer.so.8.0.4\\n/usr/lib/x86_64-linux-gnu/libcudnn_ops_train.so.8.0.4\\nHIP runtime version: N/A\\nMIOpen runtime version: N/A\\nVersions of relevant libraries:\\n[pip3] msgpack-numpy==0.4.7.1\\n[pip3] numpy==1.19.5\\n[pip3] pytorch-ignite==0.4.5\\n[pip3] pytorch-lightning==1.3.8\\n[pip3] torch==1.9.0\\n[pip3] torchaudio==0.9.0\\n[pip3] torchmetrics==0.4.1\\n[pip3] torchtext==0.8.0a0+cd6902d\\n[pip3] torchvision==0.8.1\\n[conda] blas                      1.0                         mkl\\n[conda] cudatoolkit               11.0.221             h6bb024c_0    nvidia\\n[conda] libblas                   3.9.0                     9_mkl    conda-forge\\n[conda] libcblas                  3.9.0                     9_mkl    conda-forge\\n[conda] liblapack                 3.9.0                     9_mkl    conda-forge\\n[conda] liblapacke                3.9.0                     9_mkl    conda-forge\\n[conda] mkl                       2021.2.0           h06a4308_296\\n[conda] msgpack-numpy             0.4.7.1                  pypi_0    pypi\\n[conda] numpy                     1.19.5           py37haa41c4c_1    conda-forge\\n[conda] pytorch-ignite            0.4.5                    pypi_0    pypi\\n[conda] pytorch-lightning         1.3.8                    pypi_0    pypi\\n[conda] torch                     1.9.0                    pypi_0    pypi\\n[conda] torchaudio                0.9.0                    pypi_0    pypi\\n[conda] torchmetrics              0.4.1                    pypi_0    pypi\\n[conda] torchtext                 0.8.0                      py37    pytorch\\n[conda] torchvision               0.8.1                py37_cu110    pytorch\""
            ]
          },
          "metadata": {
            "tags": []
          },
          "execution_count": 32
        }
      ]
    },
    {
      "cell_type": "code",
      "metadata": {
        "colab": {
          "base_uri": "https://localhost:8080/"
        },
        "id": "o0uvTbhk03g2",
        "outputId": "12ccf01b-d5ae-4ac9-cc7d-8d8833e65e53"
      },
      "source": [
        "print(df['post'].apply(lambda x: len(x.split(' '))).sum())"
      ],
      "execution_count": null,
      "outputs": [
        {
          "output_type": "stream",
          "text": [
            "3911834\n"
          ],
          "name": "stdout"
        }
      ]
    },
    {
      "cell_type": "code",
      "metadata": {
        "colab": {
          "base_uri": "https://localhost:8080/"
        },
        "id": "uuMHe5EWwiU0",
        "outputId": "bab27117-7d98-409d-d2c1-47ef67243470"
      },
      "source": [
        "df['Category'].unique()"
      ],
      "execution_count": null,
      "outputs": [
        {
          "output_type": "execute_result",
          "data": {
            "text/plain": [
              "array(['audio', 'projects', 'complex', 'ignite', 'C++', 'nlp',\n",
              "       'distributed', 'jit', 'reinforcement-learning', 'Mobile',\n",
              "       'quantization', 'deployment', 'uncategorized', 'vision',\n",
              "       'autograd'], dtype=object)"
            ]
          },
          "metadata": {
            "tags": []
          },
          "execution_count": 34
        }
      ]
    },
    {
      "cell_type": "code",
      "metadata": {
        "colab": {
          "base_uri": "https://localhost:8080/",
          "height": 417
        },
        "id": "lxhygaqYxxvi",
        "outputId": "9ecb676d-4649-4478-d619-7f8abee337da"
      },
      "source": [
        "my_categories = ['audio', 'projects', 'complex', 'ignite', 'C++', 'nlp',\n",
        "       'distributed', 'jit', 'reinforcement-learning', 'Mobile',\n",
        "       'quantization', 'deployment', 'uncategorized', 'vision',\n",
        "       'autograd']\n",
        "plt.figure(figsize=(10,4))\n",
        "df.Category.value_counts().plot(kind='bar');\n",
        "# Add title and axis names\n",
        "plt.title('Category wise no of posts')\n",
        "plt.xlabel('Category name')\n",
        "plt.ylabel('no of posts')"
      ],
      "execution_count": null,
      "outputs": [
        {
          "output_type": "execute_result",
          "data": {
            "text/plain": [
              "Text(0, 0.5, 'no of posts')"
            ]
          },
          "metadata": {
            "tags": []
          },
          "execution_count": 35
        },
        {
          "output_type": "display_data",
          "data": {
            "image/png": "[encoded data removed]",
            "text/plain": [
              "<Figure size 720x288 with 1 Axes>"
            ]
          },
          "metadata": {
            "tags": [],
            "needs_background": "light"
          }
        }
      ]
    },
    {
      "cell_type": "markdown",
      "metadata": {
        "id": "mCzIDCT1yHiN"
      },
      "source": [
        "# Text Pre-processing"
      ]
    },
    {
      "cell_type": "code",
      "metadata": {
        "id": "e8zrR6l8yAiJ"
      },
      "source": [
        "test_df = df.copy()"
      ],
      "execution_count": null,
      "outputs": []
    },
    {
      "cell_type": "code",
      "metadata": {
        "id": "27zDECovyQZ-"
      },
      "source": [
        "REPLACE_BY_SPACE_RE = re.compile('[/(){}\\[\\]\\'\\“\\”\\’\\|@,;]')\n",
        "BAD_SYMBOLS_RE = re.compile('[^0-9a-z #+_]')\n",
        "STOPWORDS = set(stopwords.words('english'))\n",
        "\n",
        "def clean_text(text):\n",
        "    \"\"\"\n",
        "        text: a string\n",
        "        \n",
        "        return: modified initial string\n",
        "    \"\"\"\n",
        "    text = BeautifulSoup(text, \"lxml\").text # HTML decoding\n",
        "    text = text.lower() # lowercase text\n",
        "    text = REPLACE_BY_SPACE_RE.sub(' ', text) # replace REPLACE_BY_SPACE_RE symbols by space in text\n",
        "    #text = BAD_SYMBOLS_RE.sub('', text) # delete symbols which are in BAD_SYMBOLS_RE from text\n",
        "    #text = ''.join(word for word in text if word not in punct)  # remove punctuation\n",
        "    #text = ' '.join(word for word in text.split() if word not in STOPWORDS) # delete stopwors from text\n",
        "    return text\n",
        "    \n",
        "test_df['post'] = test_df['post'].apply(clean_text)"
      ],
      "execution_count": null,
      "outputs": []
    },
    {
      "cell_type": "code",
      "metadata": {
        "colab": {
          "base_uri": "https://localhost:8080/"
        },
        "id": "70YnWRc9yTlS",
        "outputId": "1262cf47-c2eb-4d07-cc4f-bd1b72816168"
      },
      "source": [
        "def test_print_plot(index):\n",
        "    example = test_df[test_df.index == index][['post', 'Category']].values[0]\n",
        "    if len(example) > 0:\n",
        "        print(example[0])\n",
        "        print('Category:', example[1])\n",
        "test_print_plot(10)"
      ],
      "execution_count": null,
      "outputs": [
        {
          "output_type": "stream",
          "text": [
            "why does my pytorch tensor size change and contain nans after some batches?    something was wrong with my labels. see stackoverflow for more  i am training a pytorch model. after some time  even if on shuffle  the model contains  besides a few finite tensorrows only nan values:\n",
            "tensor        nan      nan      nan   ...      nan      nan      nan  \n",
            "              nan      nan      nan   ...      nan      nan      nan  \n",
            "              nan      nan      nan   ...      nan      nan      nan  \n",
            "         ... \n",
            "           1.4641   0.0360  -1.1528   ...  -2.3592  -2.6310   6.3893  \n",
            "              nan      nan      nan   ...      nan      nan      nan  \n",
            "              nan      nan      nan   ...      nan      nan      nan    \n",
            "       device= cuda:0   grad_fn= \n",
            "\n",
            "the detect_anomaly functions return:\n",
            "\n",
            "runtimeerror: function ‘logsoftmaxbackward  returned nan values in its 0th output.\n",
            "\n",
            "in reference to the next line output = f.log_softmax output  dim=2 \n",
            "a normal tensor should look like this:\n",
            "tensor    -3.3904  -3.4340  -3.3703   ...  -3.3613  -3.5098  -3.4344   \n",
            "\n",
            "          -3.3760  -3.2948  -3.2673   ...  -3.4039  -3.3827  -3.3919   \n",
            "\n",
            "          -3.3857  -3.3358  -3.3901   ...  -3.4686  -3.4749  -3.3826   \n",
            "\n",
            "        ... \n",
            "\n",
            "          -3.3568  -3.3502  -3.4416   ...  -3.4463  -3.4921  -3.3769   \n",
            "\n",
            "          -3.4379  -3.3508  -3.3610   ...  -3.3707  -3.4030  -3.4244   \n",
            "\n",
            "          -3.3919  -3.4513  -3.3565   ...  -3.2714  -3.3984  -3.3643    \n",
            "       device= cuda:0   grad_fn= \n",
            "\n",
            "please notice the double brackets  if they are import.\n",
            "code:\n",
            "spectrograms  labels  input_lengths  label_lengths = _data\n",
            "spectrograms  labels = spectrograms.to device   labels.to device \n",
            "optimizer.zero_grad  \n",
            "\n",
            "output = model spectrograms \n",
            "\n",
            "additionally  i tried to run it with a bigger batch size  current batch size:1  bigger batch size: 6  and it run without errors until 40% of the first epoch in which i got this error.\n",
            "\n",
            "cuda run out of memory\n",
            "\n",
            "also  i tried to normalize the data torchaudio.transforms.melspectrogram sample_rate=16000  n_mels=128  normalized=true \n",
            "and reducing the learning rate from 5e-4 to 5e-5 did not help either.\n",
            "additional information: my dataset contains nearly 300000 .wav files and the error came at 3-10% runtime in the first epoch.\n",
            "i appreciate any hints and i will gladly submit further information.\n",
            "also asked on stackoverflow: python - why does my pytorch tensor size change and contain nans after some batches? - stack overflow 4\n",
            "Category: audio\n"
          ],
          "name": "stdout"
        }
      ]
    },
    {
      "cell_type": "code",
      "metadata": {
        "colab": {
          "base_uri": "https://localhost:8080/"
        },
        "id": "nvoHuGNk-6Rx",
        "outputId": "fb6d0eda-37d3-45ae-c1e5-577bd2272e05"
      },
      "source": [
        "test_df['post'].apply(lambda x: len(x.split(' '))).sum()"
      ],
      "execution_count": null,
      "outputs": [
        {
          "output_type": "execute_result",
          "data": {
            "text/plain": [
              "4942484"
            ]
          },
          "metadata": {
            "tags": []
          },
          "execution_count": 39
        }
      ]
    },
    {
      "cell_type": "code",
      "metadata": {
        "colab": {
          "base_uri": "https://localhost:8080/"
        },
        "id": "NrE1pjWD_K5s",
        "outputId": "06d1e0e9-88e9-4261-8269-45cb9bf6c55f"
      },
      "source": [
        "4942484 - 3911834"
      ],
      "execution_count": null,
      "outputs": [
        {
          "output_type": "execute_result",
          "data": {
            "text/plain": [
              "1030650"
            ]
          },
          "metadata": {
            "tags": []
          },
          "execution_count": 40
        }
      ]
    },
    {
      "cell_type": "markdown",
      "metadata": {
        "id": "bePlYGeg_Wvp"
      },
      "source": [
        "# Modeling the data"
      ]
    },
    {
      "cell_type": "code",
      "metadata": {
        "id": "KnxbYdLm_R0X"
      },
      "source": [
        "X = test_df.post\n",
        "y = test_df.Category\n",
        "X_train, X_test, y_train, y_test = train_test_split(X, y, test_size=0.3, random_state = 42)"
      ],
      "execution_count": null,
      "outputs": []
    },
    {
      "cell_type": "code",
      "metadata": {
        "colab": {
          "base_uri": "https://localhost:8080/"
        },
        "id": "Eh_iRh-7_dzD",
        "outputId": "0aa7561d-b728-4914-8c72-cb467268ef54"
      },
      "source": [
        "X_train.head()"
      ],
      "execution_count": null,
      "outputs": [
        {
          "output_type": "execute_result",
          "data": {
            "text/plain": [
              "6399    model parameters don t update during training ...\n",
              "5623    how to calculate dimensions of first linear la...\n",
              "5141    is this usage of mseloss correct?    one is en...\n",
              "6505    debugging memory allocations in `torch.autogra...\n",
              "4952    runtimeerror: input type  torch.cuda.floattens...\n",
              "Name: post, dtype: object"
            ]
          },
          "metadata": {
            "tags": []
          },
          "execution_count": 42
        }
      ]
    },
    {
      "cell_type": "code",
      "metadata": {
        "colab": {
          "base_uri": "https://localhost:8080/"
        },
        "id": "0NgoAXwm_goX",
        "outputId": "1a600fad-6f37-408e-c32a-5f294edf0775"
      },
      "source": [
        "y_train.head()"
      ],
      "execution_count": null,
      "outputs": [
        {
          "output_type": "execute_result",
          "data": {
            "text/plain": [
              "6399         autograd\n",
              "5623           vision\n",
              "5141    uncategorized\n",
              "6505         autograd\n",
              "4952    uncategorized\n",
              "Name: Category, dtype: object"
            ]
          },
          "metadata": {
            "tags": []
          },
          "execution_count": 43
        }
      ]
    },
    {
      "cell_type": "markdown",
      "metadata": {
        "id": "6GpVxH1M_o2J"
      },
      "source": [
        "# Naive Bayes Classifier for Multinomial Models\n",
        "\n",
        "\n"
      ]
    },
    {
      "cell_type": "markdown",
      "metadata": {
        "id": "kwdFMtkW_t1X"
      },
      "source": [
        "## CountVectorizer + TF-IDFTransformer + MultinomialNB"
      ]
    },
    {
      "cell_type": "code",
      "metadata": {
        "colab": {
          "base_uri": "https://localhost:8080/"
        },
        "id": "tbRM6r4N_kRn",
        "outputId": "7b78c7d1-12bb-4701-ff9e-64a6f7ec323d"
      },
      "source": [
        "from sklearn.naive_bayes import MultinomialNB\n",
        "from sklearn.pipeline import Pipeline\n",
        "from sklearn.feature_extraction.text import TfidfTransformer\n",
        "\n",
        "nb = Pipeline([('vect', CountVectorizer()),\n",
        "               ('tfidf', TfidfTransformer()),\n",
        "               ('clf', MultinomialNB()),\n",
        "              ])\n",
        "nb.fit(X_train, y_train)\n",
        "\n",
        "\n",
        "from sklearn.metrics import classification_report\n",
        "y_pred = nb.predict(X_test)\n",
        "\n",
        "print('accuracy %s' % accuracy_score(y_pred, y_test))\n",
        "res1311 = accuracy_score(y_pred, y_test)\n",
        "print(classification_report(y_test, y_pred,target_names=my_categories))"
      ],
      "execution_count": null,
      "outputs": [
        {
          "output_type": "stream",
          "text": [
            "accuracy 0.2916666666666667\n",
            "                        precision    recall  f1-score   support\n",
            "\n",
            "                 audio       0.00      0.00      0.00       159\n",
            "              projects       0.00      0.00      0.00        60\n",
            "               complex       0.00      0.00      0.00        59\n",
            "                ignite       0.00      0.00      0.00       152\n",
            "                   C++       0.00      0.00      0.00        13\n",
            "                   nlp       0.00      0.00      0.00        99\n",
            "           distributed       0.00      0.00      0.00       165\n",
            "                   jit       0.00      0.00      0.00        14\n",
            "reinforcement-learning       0.00      0.00      0.00       134\n",
            "                Mobile       0.00      0.00      0.00       152\n",
            "          quantization       0.00      0.00      0.00         8\n",
            "            deployment       0.00      0.00      0.00       116\n",
            "         uncategorized       0.00      0.00      0.00       119\n",
            "                vision       0.29      1.00      0.45       575\n",
            "              autograd       0.00      0.00      0.00       143\n",
            "\n",
            "              accuracy                           0.29      1968\n",
            "             macro avg       0.02      0.07      0.03      1968\n",
            "          weighted avg       0.09      0.29      0.13      1968\n",
            "\n"
          ],
          "name": "stdout"
        },
        {
          "output_type": "stream",
          "text": [
            "/usr/local/lib/python3.7/dist-packages/sklearn/metrics/_classification.py:1272: UndefinedMetricWarning: Precision and F-score are ill-defined and being set to 0.0 in labels with no predicted samples. Use `zero_division` parameter to control this behavior.\n",
            "  _warn_prf(average, modifier, msg_start, len(result))\n"
          ],
          "name": "stderr"
        }
      ]
    },
    {
      "cell_type": "markdown",
      "metadata": {
        "id": "XBYOnYjQ_3BB"
      },
      "source": [
        "## Linear Support Vector Machine CountVectorizer + TF-IDFTransformer + SGDClassifier"
      ]
    },
    {
      "cell_type": "code",
      "metadata": {
        "colab": {
          "base_uri": "https://localhost:8080/"
        },
        "id": "FBWHXbLR_xQ5",
        "outputId": "93abef50-1ffd-40f9-ca9a-2a380e324a71"
      },
      "source": [
        "from sklearn.linear_model import SGDClassifier\n",
        "\n",
        "sgd = Pipeline([('vect', CountVectorizer()),\n",
        "                ('tfidf', TfidfTransformer()),\n",
        "                ('clf', SGDClassifier(loss='hinge', penalty='l2',alpha=1e-3, random_state=42, max_iter=5, tol=None)),\n",
        "               ])\n",
        "sgd.fit(X_train, y_train)\n",
        "\n",
        "y_pred = sgd.predict(X_test)\n",
        "\n",
        "print('accuracy %s' % accuracy_score(y_pred, y_test))\n",
        "res1321 = accuracy_score(y_pred, y_test)\n",
        "print(classification_report(y_test, y_pred,target_names=my_categories))"
      ],
      "execution_count": null,
      "outputs": [
        {
          "output_type": "stream",
          "text": [
            "accuracy 0.6702235772357723\n",
            "                        precision    recall  f1-score   support\n",
            "\n",
            "                 audio       0.80      0.80      0.80       159\n",
            "              projects       0.88      0.77      0.82        60\n",
            "               complex       0.88      0.51      0.65        59\n",
            "                ignite       0.60      0.56      0.58       152\n",
            "                   C++       1.00      0.08      0.14        13\n",
            "                   nlp       0.62      0.15      0.24        99\n",
            "           distributed       0.77      0.88      0.82       165\n",
            "                   jit       1.00      0.86      0.92        14\n",
            "reinforcement-learning       0.67      0.81      0.73       134\n",
            "                Mobile       0.71      0.55      0.62       152\n",
            "          quantization       0.00      0.00      0.00         8\n",
            "            deployment       0.87      0.95      0.91       116\n",
            "         uncategorized       0.78      0.76      0.77       119\n",
            "                vision       0.56      0.78      0.66       575\n",
            "              autograd       0.48      0.10      0.16       143\n",
            "\n",
            "              accuracy                           0.67      1968\n",
            "             macro avg       0.71      0.57      0.59      1968\n",
            "          weighted avg       0.67      0.67      0.64      1968\n",
            "\n"
          ],
          "name": "stdout"
        },
        {
          "output_type": "stream",
          "text": [
            "/usr/local/lib/python3.7/dist-packages/sklearn/metrics/_classification.py:1272: UndefinedMetricWarning: Precision and F-score are ill-defined and being set to 0.0 in labels with no predicted samples. Use `zero_division` parameter to control this behavior.\n",
            "  _warn_prf(average, modifier, msg_start, len(result))\n"
          ],
          "name": "stderr"
        }
      ]
    },
    {
      "cell_type": "markdown",
      "metadata": {
        "id": "3XVKNix4__fj"
      },
      "source": [
        "## Logistic Regression CountVectorizer + TF-IDFTransformer + Logistic Regression"
      ]
    },
    {
      "cell_type": "code",
      "metadata": {
        "colab": {
          "base_uri": "https://localhost:8080/"
        },
        "id": "ik13d-v9_6Du",
        "outputId": "0fcbe653-19ce-4d52-8a96-1bc0c42aef79"
      },
      "source": [
        "from sklearn.linear_model import LogisticRegression\n",
        "\n",
        "logreg = Pipeline([('vect', CountVectorizer()),\n",
        "                ('tfidf', TfidfTransformer()),\n",
        "                ('clf', LogisticRegression(n_jobs=1, C=1e5)),\n",
        "               ])\n",
        "logreg.fit(X_train, y_train)\n",
        "\n",
        "y_pred = logreg.predict (X_test)\n",
        "\n",
        "print('accuracy %s' % accuracy_score(y_pred, y_test))\n",
        "res1331 = accuracy_score(y_pred, y_test)\n",
        "print(classification_report(y_test, y_pred,target_names=my_categories))"
      ],
      "execution_count": null,
      "outputs": [
        {
          "output_type": "stream",
          "text": [
            "/usr/local/lib/python3.7/dist-packages/sklearn/linear_model/_logistic.py:940: ConvergenceWarning: lbfgs failed to converge (status=1):\n",
            "STOP: TOTAL NO. of ITERATIONS REACHED LIMIT.\n",
            "\n",
            "Increase the number of iterations (max_iter) or scale the data as shown in:\n",
            "    https://scikit-learn.org/stable/modules/preprocessing.html\n",
            "Please also refer to the documentation for alternative solver options:\n",
            "    https://scikit-learn.org/stable/modules/linear_model.html#logistic-regression\n",
            "  extra_warning_msg=_LOGISTIC_SOLVER_CONVERGENCE_MSG)\n"
          ],
          "name": "stderr"
        },
        {
          "output_type": "stream",
          "text": [
            "accuracy 0.6402439024390244\n",
            "                        precision    recall  f1-score   support\n",
            "\n",
            "                 audio       0.81      0.72      0.76       159\n",
            "              projects       0.90      0.77      0.83        60\n",
            "               complex       0.95      0.59      0.73        59\n",
            "                ignite       0.54      0.53      0.53       152\n",
            "                   C++       1.00      0.15      0.27        13\n",
            "                   nlp       0.43      0.23      0.30        99\n",
            "           distributed       0.83      0.77      0.80       165\n",
            "                   jit       0.87      0.93      0.90        14\n",
            "reinforcement-learning       0.73      0.74      0.74       134\n",
            "                Mobile       0.65      0.57      0.61       152\n",
            "          quantization       0.00      0.00      0.00         8\n",
            "            deployment       0.93      0.90      0.91       116\n",
            "         uncategorized       0.84      0.69      0.76       119\n",
            "                vision       0.52      0.71      0.60       575\n",
            "              autograd       0.36      0.27      0.31       143\n",
            "\n",
            "              accuracy                           0.64      1968\n",
            "             macro avg       0.69      0.57      0.60      1968\n",
            "          weighted avg       0.65      0.64      0.64      1968\n",
            "\n"
          ],
          "name": "stdout"
        },
        {
          "output_type": "stream",
          "text": [
            "/usr/local/lib/python3.7/dist-packages/sklearn/metrics/_classification.py:1272: UndefinedMetricWarning: Precision and F-score are ill-defined and being set to 0.0 in labels with no predicted samples. Use `zero_division` parameter to control this behavior.\n",
            "  _warn_prf(average, modifier, msg_start, len(result))\n"
          ],
          "name": "stderr"
        }
      ]
    },
    {
      "cell_type": "markdown",
      "metadata": {
        "id": "_kfIu1YjARhR"
      },
      "source": [
        "## Decision Tree CountVectorizer + TF-IDFTransformer + DecisionTreeClassifier "
      ]
    },
    {
      "cell_type": "code",
      "metadata": {
        "colab": {
          "base_uri": "https://localhost:8080/"
        },
        "id": "jTCU4sg7AFXN",
        "outputId": "3484b837-fa07-4952-abf4-6ac9fb1e5192"
      },
      "source": [
        "from sklearn.tree import DecisionTreeClassifier\n",
        "\n",
        "dtree = Pipeline([('vect', CountVectorizer()),\n",
        "                ('tfidf', TfidfTransformer()),\n",
        "                ('clf', DecisionTreeClassifier(random_state=0)),\n",
        "               ])\n",
        "dtree.fit(X_train, y_train)\n",
        "\n",
        "y_pred = dtree.predict (X_test)\n",
        "\n",
        "print('accuracy %s' % accuracy_score(y_pred, y_test))\n",
        "res1341 = accuracy_score(y_pred, y_test)\n",
        "print(classification_report(y_test, y_pred,target_names=my_categories))"
      ],
      "execution_count": null,
      "outputs": [
        {
          "output_type": "stream",
          "text": [
            "accuracy 0.5152439024390244\n",
            "                        precision    recall  f1-score   support\n",
            "\n",
            "                 audio       0.57      0.58      0.57       159\n",
            "              projects       0.80      0.72      0.75        60\n",
            "               complex       0.52      0.42      0.47        59\n",
            "                ignite       0.45      0.48      0.46       152\n",
            "                   C++       0.00      0.00      0.00        13\n",
            "                   nlp       0.22      0.18      0.20        99\n",
            "           distributed       0.70      0.64      0.67       165\n",
            "                   jit       0.67      0.71      0.69        14\n",
            "reinforcement-learning       0.62      0.63      0.62       134\n",
            "                Mobile       0.48      0.53      0.50       152\n",
            "          quantization       0.00      0.00      0.00         8\n",
            "            deployment       0.81      0.85      0.83       116\n",
            "         uncategorized       0.67      0.61      0.63       119\n",
            "                vision       0.46      0.48      0.47       575\n",
            "              autograd       0.24      0.26      0.25       143\n",
            "\n",
            "              accuracy                           0.52      1968\n",
            "             macro avg       0.48      0.47      0.48      1968\n",
            "          weighted avg       0.51      0.52      0.51      1968\n",
            "\n"
          ],
          "name": "stdout"
        }
      ]
    },
    {
      "cell_type": "markdown",
      "metadata": {
        "id": "_DsDR6cbAfIg"
      },
      "source": [
        "# **Results**"
      ]
    },
    {
      "cell_type": "code",
      "metadata": {
        "colab": {
          "base_uri": "https://localhost:8080/",
          "height": 173
        },
        "id": "viGz7xfTAXbl",
        "outputId": "dd2a7c34-1e31-408e-a329-e58c6a3e2fdc"
      },
      "source": [
        "import pandas as pd\n",
        "\n",
        "results = pd.DataFrame({'Model': ['Naive Bayes MultinomialNB', 'Linear SVM', 'Logistic Regression', 'Decision Tree'],\n",
        "                         'Accuracy': [res1311, res1321, res1331, res1341]})\n",
        "results.set_index('Model')\n",
        "results.sort_values(by='Accuracy')"
      ],
      "execution_count": null,
      "outputs": [
        {
          "output_type": "execute_result",
          "data": {
            "text/html": [
              "<div>\n",
              "<style scoped>\n",
              "    .dataframe tbody tr th:only-of-type {\n",
              "        vertical-align: middle;\n",
              "    }\n",
              "\n",
              "    .dataframe tbody tr th {\n",
              "        vertical-align: top;\n",
              "    }\n",
              "\n",
              "    .dataframe thead th {\n",
              "        text-align: right;\n",
              "    }\n",
              "</style>\n",
              "<table border=\"1\" class=\"dataframe\">\n",
              "  <thead>\n",
              "    <tr style=\"text-align: right;\">\n",
              "      <th></th>\n",
              "      <th>Model</th>\n",
              "      <th>Accuracy</th>\n",
              "    </tr>\n",
              "  </thead>\n",
              "  <tbody>\n",
              "    <tr>\n",
              "      <th>0</th>\n",
              "      <td>Naive Bayes MultinomialNB</td>\n",
              "      <td>0.291667</td>\n",
              "    </tr>\n",
              "    <tr>\n",
              "      <th>3</th>\n",
              "      <td>Decision Tree</td>\n",
              "      <td>0.515244</td>\n",
              "    </tr>\n",
              "    <tr>\n",
              "      <th>2</th>\n",
              "      <td>Logistic Regression</td>\n",
              "      <td>0.640244</td>\n",
              "    </tr>\n",
              "    <tr>\n",
              "      <th>1</th>\n",
              "      <td>Linear SVM</td>\n",
              "      <td>0.670224</td>\n",
              "    </tr>\n",
              "  </tbody>\n",
              "</table>\n",
              "</div>"
            ],
            "text/plain": [
              "                       Model  Accuracy\n",
              "0  Naive Bayes MultinomialNB  0.291667\n",
              "3              Decision Tree  0.515244\n",
              "2        Logistic Regression  0.640244\n",
              "1                 Linear SVM  0.670224"
            ]
          },
          "metadata": {
            "tags": []
          },
          "execution_count": 48
        }
      ]
    },
    {
      "cell_type": "markdown",
      "metadata": {
        "id": "2eWM98w2Ap1I"
      },
      "source": [
        "# *Cross* Validation with linear SVM"
      ]
    },
    {
      "cell_type": "code",
      "metadata": {
        "id": "RAukjl4-Ajl1"
      },
      "source": [
        "from sklearn.linear_model import SGDClassifier\n",
        "from sklearn.model_selection import cross_val_score\n",
        "import numpy as np\n",
        "\n",
        "sgd = Pipeline([('vect', CountVectorizer()),\n",
        "                ('tfidf', TfidfTransformer()),\n",
        "                ('clf', SGDClassifier(loss='hinge', penalty='l2',alpha=1e-3, random_state=42, max_iter=5, tol=None)),\n",
        "               ])\n",
        "cv_res_sgd = cross_val_score(sgd, X_train, y_train, cv=10)\n",
        "mean_cv_res_sgd = np.mean(cv_res_sgd)"
      ],
      "execution_count": null,
      "outputs": []
    },
    {
      "cell_type": "code",
      "metadata": {
        "colab": {
          "base_uri": "https://localhost:8080/"
        },
        "id": "mZCetM3RAtlp",
        "outputId": "d57d50cf-17f2-4c53-86aa-b3fc9d49d345"
      },
      "source": [
        "print(mean_cv_res_sgd)"
      ],
      "execution_count": null,
      "outputs": [
        {
          "output_type": "stream",
          "text": [
            "0.6487382779198636\n"
          ],
          "name": "stdout"
        }
      ]
    },
    {
      "cell_type": "code",
      "metadata": {
        "colab": {
          "base_uri": "https://localhost:8080/",
          "height": 711
        },
        "id": "eQVxcBW6A23N",
        "outputId": "9d604858-ec95-4840-d3cb-c30d1fc7973c"
      },
      "source": [
        "from sklearn.metrics import confusion_matrix\n",
        "import seaborn as sns\n",
        "\n",
        "conf_mat = confusion_matrix(y_test, y_pred)\n",
        "fig, ax = plt.subplots(figsize=(10,10))\n",
        "sns.heatmap(conf_mat, annot=True, fmt='d',\n",
        "            xticklabels=my_categories, yticklabels=my_categories)\n",
        "plt.ylabel('Actual')\n",
        "plt.xlabel('Predicted')\n",
        "plt.show()"
      ],
      "execution_count": null,
      "outputs": [
        {
          "output_type": "display_data",
          "data": {
            "image/png": "[encoded data removed]",
            "text/plain": [
              "<Figure size 720x720 with 2 Axes>"
            ]
          },
          "metadata": {
            "tags": [],
            "needs_background": "light"
          }
        }
      ]
    },
    {
      "cell_type": "markdown",
      "metadata": {
        "id": "nX4QIFZ-D4GJ"
      },
      "source": [
        "Using TF-IDF as a vectorizer and transformer is slighly better than using CountVectorizer as a Vectorizer."
      ]
    },
    {
      "cell_type": "markdown",
      "metadata": {
        "id": "R3rq-toPEeCB"
      },
      "source": [
        "# **XGBoost**"
      ]
    },
    {
      "cell_type": "code",
      "metadata": {
        "colab": {
          "base_uri": "https://localhost:8080/"
        },
        "id": "of-xqk6KEfVo",
        "outputId": "54c957ce-b8bb-44ac-d050-28ecbed22f3d"
      },
      "source": [
        "!pip install xgboost"
      ],
      "execution_count": null,
      "outputs": [
        {
          "output_type": "stream",
          "text": [
            "Requirement already satisfied: xgboost in /usr/local/lib/python3.7/dist-packages (0.90)\n",
            "Requirement already satisfied: numpy in /usr/local/lib/python3.7/dist-packages (from xgboost) (1.19.5)\n",
            "Requirement already satisfied: scipy in /usr/local/lib/python3.7/dist-packages (from xgboost) (1.4.1)\n"
          ],
          "name": "stdout"
        }
      ]
    },
    {
      "cell_type": "code",
      "metadata": {
        "id": "9o2kbSbdEiBv"
      },
      "source": [
        "import xgboost as xgb\n",
        "\n",
        "xgb = Pipeline(steps=[('vect', TfidfVectorizer()),\n",
        "                      ('tfidf', TfidfTransformer()),\n",
        "                      ('xgboost', xgb.XGBClassifier(objective='multi:softmax'))])\n",
        "\n",
        "cv_res_xgb_tfidf = cross_val_score(xgb, X_train, y_train, cv=10)\n",
        "mean_cv_res_xgb_tfidf = np.mean(cv_res_xgb_tfidf)"
      ],
      "execution_count": null,
      "outputs": []
    },
    {
      "cell_type": "code",
      "metadata": {
        "colab": {
          "base_uri": "https://localhost:8080/"
        },
        "id": "aKwb8ZKEEpEn",
        "outputId": "17237f27-6143-4c60-e9ac-2759c7846f8d"
      },
      "source": [
        "mean_cv_res_xgb_tfidf"
      ],
      "execution_count": null,
      "outputs": [
        {
          "output_type": "execute_result",
          "data": {
            "text/plain": [
              "0.6376238514729564"
            ]
          },
          "metadata": {
            "tags": []
          },
          "execution_count": 56
        }
      ]
    },
    {
      "cell_type": "code",
      "metadata": {
        "id": "RbwvckwcGqzU"
      },
      "source": [
        "xgb.fit(X_train, y_train)\n",
        "\n",
        "y_pred = xgb.predict(X_test)"
      ],
      "execution_count": null,
      "outputs": []
    },
    {
      "cell_type": "markdown",
      "metadata": {
        "id": "x9Pi3N8MppHU"
      },
      "source": [
        "# Confusion Matric using XG Boost"
      ]
    },
    {
      "cell_type": "code",
      "metadata": {
        "colab": {
          "base_uri": "https://localhost:8080/",
          "height": 711
        },
        "id": "k-ZLV63JGwhe",
        "outputId": "4d65aa98-6b91-4d37-9144-7a8aa6f6b0ec"
      },
      "source": [
        "conf_mat = confusion_matrix(y_test, y_pred)\n",
        "fig, ax = plt.subplots(figsize=(10,10))\n",
        "sns.heatmap(conf_mat, annot=True, fmt='d',\n",
        "            xticklabels=my_categories, yticklabels=my_categories)\n",
        "plt.ylabel('Actual')\n",
        "plt.xlabel('Predicted')\n",
        "plt.show()"
      ],
      "execution_count": null,
      "outputs": [
        {
          "output_type": "display_data",
          "data": {
            "image/png": "[encoded data removed]",
            "text/plain": [
              "<Figure size 720x720 with 2 Axes>"
            ]
          },
          "metadata": {
            "tags": [],
            "needs_background": "light"
          }
        }
      ]
    },
    {
      "cell_type": "markdown",
      "metadata": {
        "id": "nfAsWr0THKc3"
      },
      "source": [
        "# **Light GBM**"
      ]
    },
    {
      "cell_type": "code",
      "metadata": {
        "colab": {
          "base_uri": "https://localhost:8080/"
        },
        "id": "TNy79ha9G5xq",
        "outputId": "02cd58f1-d37c-493e-902d-3c95263679f5"
      },
      "source": [
        "!pip install lightgbm"
      ],
      "execution_count": null,
      "outputs": [
        {
          "output_type": "stream",
          "text": [
            "Requirement already satisfied: lightgbm in /usr/local/lib/python3.7/dist-packages (2.2.3)\n",
            "Requirement already satisfied: numpy in /usr/local/lib/python3.7/dist-packages (from lightgbm) (1.19.5)\n",
            "Requirement already satisfied: scipy in /usr/local/lib/python3.7/dist-packages (from lightgbm) (1.4.1)\n",
            "Requirement already satisfied: scikit-learn in /usr/local/lib/python3.7/dist-packages (from lightgbm) (0.22.2.post1)\n",
            "Requirement already satisfied: joblib>=0.11 in /usr/local/lib/python3.7/dist-packages (from scikit-learn->lightgbm) (1.0.1)\n"
          ],
          "name": "stdout"
        }
      ]
    },
    {
      "cell_type": "code",
      "metadata": {
        "id": "5eZTt1s6HQV1"
      },
      "source": [
        "import lightgbm as lgbm\n",
        "\n",
        "tfidf_vec = TfidfVectorizer(dtype=np.float32, sublinear_tf=True, use_idf=True, smooth_idf=True)\n",
        "X_data_tfidf = tfidf_vec.fit_transform(test_df['post'])\n",
        "X_train_tfidf = tfidf_vec.transform(X_train)\n",
        "X_test_tfidf = tfidf_vec.transform(X_test)\n",
        "\n",
        "clf_LGBM = lgbm.LGBMClassifier(objective='multiclass', verbose=-1, learning_rate=0.5, max_depth=20, num_leaves=50, n_estimators=120, max_bin=2000,)\n",
        "clf_LGBM.fit(X_train_tfidf, y_train, verbose=-1)\n",
        "predicted_LGBM = clf_LGBM.predict(X_test_tfidf)"
      ],
      "execution_count": null,
      "outputs": []
    },
    {
      "cell_type": "code",
      "metadata": {
        "id": "e6YthSw2Hlaq"
      },
      "source": [
        "cv_res_lgbm_tfidf = cross_val_score(clf_LGBM, X_train_tfidf, y_train, cv=10)\n",
        "mean_cv_res_lgbm_tfidf = np.mean(cv_res_lgbm_tfidf)"
      ],
      "execution_count": null,
      "outputs": []
    },
    {
      "cell_type": "code",
      "metadata": {
        "colab": {
          "base_uri": "https://localhost:8080/"
        },
        "id": "tCp3wPZOHmdZ",
        "outputId": "08b971fc-0809-468b-f0a8-b1db4c7750e2"
      },
      "source": [
        "mean_cv_res_lgbm_tfidf"
      ],
      "execution_count": null,
      "outputs": [
        {
          "output_type": "execute_result",
          "data": {
            "text/plain": [
              "0.19815667329733827"
            ]
          },
          "metadata": {
            "tags": []
          },
          "execution_count": 64
        }
      ]
    },
    {
      "cell_type": "code",
      "metadata": {
        "colab": {
          "base_uri": "https://localhost:8080/"
        },
        "id": "zWMBsjn8Ho3e",
        "outputId": "4a49bc8f-dafc-46bf-9e57-861e1f7d2088"
      },
      "source": [
        "print('accuracy %s' % accuracy_score(predicted_LGBM, y_test))\n",
        "res_lgbm = accuracy_score(predicted_LGBM, y_test)\n",
        "print(classification_report(y_test, predicted_LGBM,target_names=my_categories))"
      ],
      "execution_count": null,
      "outputs": [
        {
          "output_type": "stream",
          "text": [
            "accuracy 0.2804878048780488\n",
            "                        precision    recall  f1-score   support\n",
            "\n",
            "                 audio       0.00      0.00      0.00       159\n",
            "              projects       0.00      0.00      0.00        60\n",
            "               complex       0.00      0.00      0.00        59\n",
            "                ignite       0.00      0.00      0.00       152\n",
            "                   C++       0.00      0.00      0.00        13\n",
            "                   nlp       0.00      0.00      0.00        99\n",
            "           distributed       1.00      0.01      0.01       165\n",
            "                   jit       0.00      0.00      0.00        14\n",
            "reinforcement-learning       0.08      0.01      0.02       134\n",
            "                Mobile       0.00      0.00      0.00       152\n",
            "          quantization       0.00      0.00      0.00         8\n",
            "            deployment       0.00      0.00      0.00       116\n",
            "         uncategorized       0.00      0.00      0.00       119\n",
            "                vision       0.29      0.95      0.45       575\n",
            "              autograd       0.05      0.02      0.03       143\n",
            "\n",
            "              accuracy                           0.28      1968\n",
            "             macro avg       0.09      0.07      0.03      1968\n",
            "          weighted avg       0.18      0.28      0.14      1968\n",
            "\n"
          ],
          "name": "stdout"
        },
        {
          "output_type": "stream",
          "text": [
            "/usr/local/lib/python3.7/dist-packages/sklearn/metrics/_classification.py:1272: UndefinedMetricWarning: Precision and F-score are ill-defined and being set to 0.0 in labels with no predicted samples. Use `zero_division` parameter to control this behavior.\n",
            "  _warn_prf(average, modifier, msg_start, len(result))\n"
          ],
          "name": "stderr"
        }
      ]
    },
    {
      "cell_type": "markdown",
      "metadata": {
        "id": "k-qm2lR5pfZo"
      },
      "source": [
        "# Confusion Matric using Light GBM"
      ]
    },
    {
      "cell_type": "code",
      "metadata": {
        "colab": {
          "base_uri": "https://localhost:8080/",
          "height": 711
        },
        "id": "9SZWuic6HvAD",
        "outputId": "3f384f37-36e4-483d-a3bd-3acfb7c3f29c"
      },
      "source": [
        "conf_mat = confusion_matrix(y_test, predicted_LGBM)\n",
        "fig, ax = plt.subplots(figsize=(10,10))\n",
        "sns.heatmap(conf_mat, annot=True, fmt='d',\n",
        "            xticklabels=my_categories, yticklabels=my_categories)\n",
        "plt.ylabel('Actual')\n",
        "plt.xlabel('Predicted')\n",
        "plt.show()"
      ],
      "execution_count": null,
      "outputs": [
        {
          "output_type": "display_data",
          "data": {
            "image/png": "[encoded data removed]",
            "text/plain": [
              "<Figure size 720x720 with 2 Axes>"
            ]
          },
          "metadata": {
            "tags": [],
            "needs_background": "light"
          }
        }
      ]
    }
  ]
}